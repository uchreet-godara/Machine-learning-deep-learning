{
 "cells": [
  {
   "cell_type": "code",
   "execution_count": 1,
   "metadata": {
    "_cell_guid": "b1076dfc-b9ad-4769-8c92-a6c4dae69d19",
    "_uuid": "8f2839f25d086af736a60e9eeb907d3b93b6e0e5"
   },
   "outputs": [],
   "source": [
    "%reload_ext autoreload\n",
    "%autoreload 2\n",
    "%matplotlib inline "
   ]
  },
  {
   "cell_type": "code",
   "execution_count": 2,
   "metadata": {
    "_cell_guid": "79c7e3d0-c299-4dcb-8224-4455121ee9b0",
    "_uuid": "d629ff2d2480ee46fbb7e2d37f6b5fab8052498a"
   },
   "outputs": [],
   "source": [
    "from fastai import * \n",
    "from fastai.text import *"
   ]
  },
  {
   "cell_type": "code",
   "execution_count": 3,
   "metadata": {},
   "outputs": [
    {
     "data": {
      "text/plain": [
       "[PosixPath('/tmp/.fastai/data/imdb_sample/texts.csv')]"
      ]
     },
     "execution_count": 3,
     "metadata": {},
     "output_type": "execute_result"
    }
   ],
   "source": [
    "path = untar_data(URLs.IMDB_SAMPLE)\n",
    "path.ls()"
   ]
  },
  {
   "cell_type": "code",
   "execution_count": 4,
   "metadata": {},
   "outputs": [
    {
     "data": {
      "text/html": [
       "<div>\n",
       "<style scoped>\n",
       "    .dataframe tbody tr th:only-of-type {\n",
       "        vertical-align: middle;\n",
       "    }\n",
       "\n",
       "    .dataframe tbody tr th {\n",
       "        vertical-align: top;\n",
       "    }\n",
       "\n",
       "    .dataframe thead th {\n",
       "        text-align: right;\n",
       "    }\n",
       "</style>\n",
       "<table border=\"1\" class=\"dataframe\">\n",
       "  <thead>\n",
       "    <tr style=\"text-align: right;\">\n",
       "      <th></th>\n",
       "      <th>label</th>\n",
       "      <th>text</th>\n",
       "      <th>is_valid</th>\n",
       "    </tr>\n",
       "  </thead>\n",
       "  <tbody>\n",
       "    <tr>\n",
       "      <th>0</th>\n",
       "      <td>negative</td>\n",
       "      <td>Un-bleeping-believable! Meg Ryan doesn't even ...</td>\n",
       "      <td>False</td>\n",
       "    </tr>\n",
       "    <tr>\n",
       "      <th>1</th>\n",
       "      <td>positive</td>\n",
       "      <td>This is a extremely well-made film. The acting...</td>\n",
       "      <td>False</td>\n",
       "    </tr>\n",
       "    <tr>\n",
       "      <th>2</th>\n",
       "      <td>negative</td>\n",
       "      <td>Every once in a long while a movie will come a...</td>\n",
       "      <td>False</td>\n",
       "    </tr>\n",
       "    <tr>\n",
       "      <th>3</th>\n",
       "      <td>positive</td>\n",
       "      <td>Name just says it all. I watched this movie wi...</td>\n",
       "      <td>False</td>\n",
       "    </tr>\n",
       "    <tr>\n",
       "      <th>4</th>\n",
       "      <td>negative</td>\n",
       "      <td>This movie succeeds at being one of the most u...</td>\n",
       "      <td>False</td>\n",
       "    </tr>\n",
       "  </tbody>\n",
       "</table>\n",
       "</div>"
      ],
      "text/plain": [
       "      label   ...    is_valid\n",
       "0  negative   ...       False\n",
       "1  positive   ...       False\n",
       "2  negative   ...       False\n",
       "3  positive   ...       False\n",
       "4  negative   ...       False\n",
       "\n",
       "[5 rows x 3 columns]"
      ]
     },
     "execution_count": 4,
     "metadata": {},
     "output_type": "execute_result"
    }
   ],
   "source": [
    "df = pd.read_csv(path/'texts.csv')\n",
    "df.head()"
   ]
  },
  {
   "cell_type": "code",
   "execution_count": 5,
   "metadata": {},
   "outputs": [
    {
     "data": {
      "text/plain": [
       "'This is a extremely well-made film. The acting, script and camera-work are all first-rate. The music is good, too, though it is mostly early in the film, when things are still relatively cheery. There are no really superstars in the cast, though several faces will be familiar. The entire cast does an excellent job with the script.<br /><br />But it is hard to watch, because there is no good end to a situation like the one presented. It is now fashionable to blame the British for setting Hindus and Muslims against each other, and then cruelly separating them into two countries. There is some merit in this view, but it\\'s also true that no one forced Hindus and Muslims in the region to mistreat each other as they did around the time of partition. It seems more likely that the British simply saw the tensions between the religions and were clever enough to exploit them to their own ends.<br /><br />The result is that there is much cruelty and inhumanity in the situation and this is very unpleasant to remember and to see on the screen. But it is never painted as a black-and-white case. There is baseness and nobility on both sides, and also the hope for change in the younger generation.<br /><br />There is redemption of a sort, in the end, when Puro has to make a hard choice between a man who has ruined her life, but also truly loved her, and her family which has disowned her, then later come looking for her. But by that point, she has no option that is without great pain for her.<br /><br />This film carries the message that both Muslims and Hindus have their grave faults, and also that both can be dignified and caring people. The reality of partition makes that realisation all the more wrenching, since there can never be real reconciliation across the India/Pakistan border. In that sense, it is similar to \"Mr & Mrs Iyer\".<br /><br />In the end, we were glad to have seen the film, even though the resolution was heartbreaking. If the UK and US could deal with their own histories of racism with this kind of frankness, they would certainly be better off.'"
      ]
     },
     "execution_count": 5,
     "metadata": {},
     "output_type": "execute_result"
    }
   ],
   "source": [
    "df['text'][1]"
   ]
  },
  {
   "cell_type": "code",
   "execution_count": 6,
   "metadata": {},
   "outputs": [],
   "source": [
    "data_lm = TextLMDataBunch.from_csv(path, 'texts.csv')"
   ]
  },
  {
   "cell_type": "code",
   "execution_count": 7,
   "metadata": {},
   "outputs": [],
   "source": [
    "data_clas = TextClasDataBunch.from_csv(path, 'texts.csv', \n",
    "                                       vocab=data_lm.train_ds.vocab, bs=32)"
   ]
  },
  {
   "cell_type": "code",
   "execution_count": 8,
   "metadata": {},
   "outputs": [],
   "source": [
    "data = (TextList.from_csv(path, 'texts.csv', cols='text')\n",
    "       .split_from_df(col=2)\n",
    "       .label_from_df(cols=0)\n",
    "       .databunch())"
   ]
  },
  {
   "cell_type": "code",
   "execution_count": 9,
   "metadata": {},
   "outputs": [
    {
     "data": {
      "text/plain": [
       "[PosixPath('/tmp/.fastai/data/imdb/tmp_lm'),\n",
       " PosixPath('/tmp/.fastai/data/imdb/imdb.vocab'),\n",
       " PosixPath('/tmp/.fastai/data/imdb/README'),\n",
       " PosixPath('/tmp/.fastai/data/imdb/test'),\n",
       " PosixPath('/tmp/.fastai/data/imdb/unsup'),\n",
       " PosixPath('/tmp/.fastai/data/imdb/tmp_clas'),\n",
       " PosixPath('/tmp/.fastai/data/imdb/train')]"
      ]
     },
     "execution_count": 9,
     "metadata": {},
     "output_type": "execute_result"
    }
   ],
   "source": [
    "path = untar_data(URLs.IMDB)\n",
    "path.ls()"
   ]
  },
  {
   "cell_type": "code",
   "execution_count": 10,
   "metadata": {},
   "outputs": [
    {
     "data": {
      "text/plain": [
       "[PosixPath('/tmp/.fastai/data/imdb/train/neg'),\n",
       " PosixPath('/tmp/.fastai/data/imdb/train/unsupBow.feat'),\n",
       " PosixPath('/tmp/.fastai/data/imdb/train/labeledBow.feat'),\n",
       " PosixPath('/tmp/.fastai/data/imdb/train/pos')]"
      ]
     },
     "execution_count": 10,
     "metadata": {},
     "output_type": "execute_result"
    }
   ],
   "source": [
    "(path/'train').ls()"
   ]
  },
  {
   "cell_type": "code",
   "execution_count": 11,
   "metadata": {},
   "outputs": [],
   "source": [
    "data_lm = (TextList.from_folder(path)\n",
    "          .filter_by_folder(include=['train','test'])\n",
    "          .split_by_rand_pct(0.1)\n",
    "          .label_for_lm()\n",
    "          .databunch())"
   ]
  },
  {
   "cell_type": "code",
   "execution_count": null,
   "metadata": {},
   "outputs": [],
   "source": [
    "  "
   ]
  },
  {
   "cell_type": "code",
   "execution_count": 12,
   "metadata": {},
   "outputs": [
    {
     "ename": "NameError",
     "evalue": "name 'learn' is not defined",
     "output_type": "error",
     "traceback": [
      "\u001b[0;31m---------------------------------------------------------------------------\u001b[0m",
      "\u001b[0;31mNameError\u001b[0m                                 Traceback (most recent call last)",
      "\u001b[0;32m<ipython-input-12-d81c6bd29d71>\u001b[0m in \u001b[0;36m<module>\u001b[0;34m\u001b[0m\n\u001b[0;32m----> 1\u001b[0;31m \u001b[0mlearn\u001b[0m\u001b[0;34m.\u001b[0m\u001b[0mlr_find\u001b[0m\u001b[0;34m(\u001b[0m\u001b[0;34m)\u001b[0m\u001b[0;34m\u001b[0m\u001b[0m\n\u001b[0m",
      "\u001b[0;31mNameError\u001b[0m: name 'learn' is not defined"
     ]
    }
   ],
   "source": [
    "learn.lr_find()"
   ]
  },
  {
   "cell_type": "code",
   "execution_count": 13,
   "metadata": {},
   "outputs": [
    {
     "ename": "NameError",
     "evalue": "name 'learn' is not defined",
     "output_type": "error",
     "traceback": [
      "\u001b[0;31m---------------------------------------------------------------------------\u001b[0m",
      "\u001b[0;31mNameError\u001b[0m                                 Traceback (most recent call last)",
      "\u001b[0;32m<ipython-input-13-0b80f616b161>\u001b[0m in \u001b[0;36m<module>\u001b[0;34m\u001b[0m\n\u001b[0;32m----> 1\u001b[0;31m \u001b[0mlearn\u001b[0m\u001b[0;34m.\u001b[0m\u001b[0mrecorder\u001b[0m\u001b[0;34m.\u001b[0m\u001b[0mplot\u001b[0m\u001b[0;34m(\u001b[0m\u001b[0mskip_end\u001b[0m\u001b[0;34m=\u001b[0m\u001b[0;36m15\u001b[0m\u001b[0;34m)\u001b[0m\u001b[0;34m\u001b[0m\u001b[0m\n\u001b[0m",
      "\u001b[0;31mNameError\u001b[0m: name 'learn' is not defined"
     ]
    }
   ],
   "source": [
    "learn.recorder.plot(skip_end=15)"
   ]
  },
  {
   "cell_type": "code",
   "execution_count": 14,
   "metadata": {},
   "outputs": [
    {
     "ename": "NameError",
     "evalue": "name 'learn' is not defined",
     "output_type": "error",
     "traceback": [
      "\u001b[0;31m---------------------------------------------------------------------------\u001b[0m",
      "\u001b[0;31mNameError\u001b[0m                                 Traceback (most recent call last)",
      "\u001b[0;32m<ipython-input-14-eab6efb37ed0>\u001b[0m in \u001b[0;36m<module>\u001b[0;34m\u001b[0m\n\u001b[0;32m----> 1\u001b[0;31m \u001b[0mlearn\u001b[0m\u001b[0;34m.\u001b[0m\u001b[0mfit_one_cycle\u001b[0m\u001b[0;34m(\u001b[0m\u001b[0;36m1\u001b[0m\u001b[0;34m,\u001b[0m \u001b[0;36m1e-2\u001b[0m\u001b[0;34m,\u001b[0m \u001b[0mmoms\u001b[0m\u001b[0;34m=\u001b[0m\u001b[0;34m(\u001b[0m\u001b[0;36m0.8\u001b[0m\u001b[0;34m,\u001b[0m\u001b[0;36m0.7\u001b[0m\u001b[0;34m)\u001b[0m\u001b[0;34m)\u001b[0m\u001b[0;34m\u001b[0m\u001b[0m\n\u001b[0m",
      "\u001b[0;31mNameError\u001b[0m: name 'learn' is not defined"
     ]
    }
   ],
   "source": [
    "learn.fit_one_cycle(1, 1e-2, moms=(0.8,0.7))"
   ]
  },
  {
   "cell_type": "code",
   "execution_count": 15,
   "metadata": {},
   "outputs": [
    {
     "ename": "NameError",
     "evalue": "name 'learn' is not defined",
     "output_type": "error",
     "traceback": [
      "\u001b[0;31m---------------------------------------------------------------------------\u001b[0m",
      "\u001b[0;31mNameError\u001b[0m                                 Traceback (most recent call last)",
      "\u001b[0;32m<ipython-input-15-2cfc6c464230>\u001b[0m in \u001b[0;36m<module>\u001b[0;34m\u001b[0m\n\u001b[0;32m----> 1\u001b[0;31m \u001b[0mlearn\u001b[0m\u001b[0;34m.\u001b[0m\u001b[0msave\u001b[0m\u001b[0;34m(\u001b[0m\u001b[0;34m'fit_head'\u001b[0m\u001b[0;34m)\u001b[0m\u001b[0;34m\u001b[0m\u001b[0m\n\u001b[0m",
      "\u001b[0;31mNameError\u001b[0m: name 'learn' is not defined"
     ]
    }
   ],
   "source": [
    "learn.save('fit_head')"
   ]
  },
  {
   "cell_type": "code",
   "execution_count": 16,
   "metadata": {},
   "outputs": [
    {
     "ename": "NameError",
     "evalue": "name 'learn' is not defined",
     "output_type": "error",
     "traceback": [
      "\u001b[0;31m---------------------------------------------------------------------------\u001b[0m",
      "\u001b[0;31mNameError\u001b[0m                                 Traceback (most recent call last)",
      "\u001b[0;32m<ipython-input-16-287a05df2d30>\u001b[0m in \u001b[0;36m<module>\u001b[0;34m\u001b[0m\n\u001b[0;32m----> 1\u001b[0;31m \u001b[0mlearn\u001b[0m\u001b[0;34m.\u001b[0m\u001b[0mload\u001b[0m\u001b[0;34m(\u001b[0m\u001b[0;34m'fit_head'\u001b[0m\u001b[0;34m)\u001b[0m\u001b[0;34m\u001b[0m\u001b[0m\n\u001b[0m",
      "\u001b[0;31mNameError\u001b[0m: name 'learn' is not defined"
     ]
    }
   ],
   "source": [
    "learn.load('fit_head')"
   ]
  },
  {
   "cell_type": "code",
   "execution_count": 17,
   "metadata": {},
   "outputs": [
    {
     "ename": "NameError",
     "evalue": "name 'learn' is not defined",
     "output_type": "error",
     "traceback": [
      "\u001b[0;31m---------------------------------------------------------------------------\u001b[0m",
      "\u001b[0;31mNameError\u001b[0m                                 Traceback (most recent call last)",
      "\u001b[0;32m<ipython-input-17-31e7a528558b>\u001b[0m in \u001b[0;36m<module>\u001b[0;34m\u001b[0m\n\u001b[0;32m----> 1\u001b[0;31m \u001b[0mlearn\u001b[0m\u001b[0;34m.\u001b[0m\u001b[0munfreeze\u001b[0m\u001b[0;34m(\u001b[0m\u001b[0;34m)\u001b[0m\u001b[0;34m\u001b[0m\u001b[0m\n\u001b[0m\u001b[1;32m      2\u001b[0m \u001b[0mlearn\u001b[0m\u001b[0;34m.\u001b[0m\u001b[0mfit_one_cycle\u001b[0m\u001b[0;34m(\u001b[0m\u001b[0;36m10\u001b[0m\u001b[0;34m,\u001b[0m \u001b[0;36m1e-3\u001b[0m\u001b[0;34m,\u001b[0m \u001b[0mmoms\u001b[0m\u001b[0;34m=\u001b[0m\u001b[0;34m(\u001b[0m\u001b[0;36m0.8\u001b[0m\u001b[0;34m,\u001b[0m\u001b[0;36m0.7\u001b[0m\u001b[0;34m)\u001b[0m\u001b[0;34m)\u001b[0m\u001b[0;34m\u001b[0m\u001b[0m\n",
      "\u001b[0;31mNameError\u001b[0m: name 'learn' is not defined"
     ]
    }
   ],
   "source": [
    "learn.unfreeze()\n",
    "learn.fit_one_cycle(10, 1e-3, moms=(0.8,0.7))"
   ]
  },
  {
   "cell_type": "code",
   "execution_count": 18,
   "metadata": {},
   "outputs": [
    {
     "ename": "NameError",
     "evalue": "name 'learn' is not defined",
     "output_type": "error",
     "traceback": [
      "\u001b[0;31m---------------------------------------------------------------------------\u001b[0m",
      "\u001b[0;31mNameError\u001b[0m                                 Traceback (most recent call last)",
      "\u001b[0;32m<ipython-input-18-d06ce8c549d2>\u001b[0m in \u001b[0;36m<module>\u001b[0;34m\u001b[0m\n\u001b[0;32m----> 1\u001b[0;31m \u001b[0mlearn\u001b[0m\u001b[0;34m.\u001b[0m\u001b[0msave\u001b[0m\u001b[0;34m(\u001b[0m\u001b[0;34m'fine_tuned'\u001b[0m\u001b[0;34m)\u001b[0m\u001b[0;34m\u001b[0m\u001b[0m\n\u001b[0m",
      "\u001b[0;31mNameError\u001b[0m: name 'learn' is not defined"
     ]
    }
   ],
   "source": [
    "learn.save('fine_tuned')"
   ]
  },
  {
   "cell_type": "code",
   "execution_count": 19,
   "metadata": {},
   "outputs": [
    {
     "ename": "NameError",
     "evalue": "name 'learn' is not defined",
     "output_type": "error",
     "traceback": [
      "\u001b[0;31m---------------------------------------------------------------------------\u001b[0m",
      "\u001b[0;31mNameError\u001b[0m                                 Traceback (most recent call last)",
      "\u001b[0;32m<ipython-input-19-c27e93e2b363>\u001b[0m in \u001b[0;36m<module>\u001b[0;34m\u001b[0m\n\u001b[0;32m----> 1\u001b[0;31m \u001b[0mlearn\u001b[0m\u001b[0;34m.\u001b[0m\u001b[0mload\u001b[0m\u001b[0;34m(\u001b[0m\u001b[0;34m'fine_tuned'\u001b[0m\u001b[0;34m)\u001b[0m\u001b[0;34m\u001b[0m\u001b[0m\n\u001b[0m",
      "\u001b[0;31mNameError\u001b[0m: name 'learn' is not defined"
     ]
    }
   ],
   "source": [
    "learn.load('fine_tuned')"
   ]
  },
  {
   "cell_type": "code",
   "execution_count": 20,
   "metadata": {},
   "outputs": [
    {
     "ename": "NameError",
     "evalue": "name 'learn' is not defined",
     "output_type": "error",
     "traceback": [
      "\u001b[0;31m---------------------------------------------------------------------------\u001b[0m",
      "\u001b[0;31mNameError\u001b[0m                                 Traceback (most recent call last)",
      "\u001b[0;32m<ipython-input-20-fd266703e4e3>\u001b[0m in \u001b[0;36m<module>\u001b[0;34m\u001b[0m\n\u001b[0;32m----> 1\u001b[0;31m learn.predict('I like this movie because', 100, temperature=0.1, \n\u001b[0m\u001b[1;32m      2\u001b[0m               min_p=0.001)\n",
      "\u001b[0;31mNameError\u001b[0m: name 'learn' is not defined"
     ]
    }
   ],
   "source": [
    "learn.predict('I like this movie because', 100, temperature=0.1, \n",
    "              min_p=0.001)"
   ]
  },
  {
   "cell_type": "code",
   "execution_count": 21,
   "metadata": {},
   "outputs": [
    {
     "ename": "NameError",
     "evalue": "name 'learn' is not defined",
     "output_type": "error",
     "traceback": [
      "\u001b[0;31m---------------------------------------------------------------------------\u001b[0m",
      "\u001b[0;31mNameError\u001b[0m                                 Traceback (most recent call last)",
      "\u001b[0;32m<ipython-input-21-baab3149b569>\u001b[0m in \u001b[0;36m<module>\u001b[0;34m\u001b[0m\n\u001b[0;32m----> 1\u001b[0;31m \u001b[0mlearn\u001b[0m\u001b[0;34m.\u001b[0m\u001b[0msave_encoder\u001b[0m\u001b[0;34m(\u001b[0m\u001b[0;34m'fine_tune_enc'\u001b[0m\u001b[0;34m)\u001b[0m\u001b[0;34m\u001b[0m\u001b[0m\n\u001b[0m",
      "\u001b[0;31mNameError\u001b[0m: name 'learn' is not defined"
     ]
    }
   ],
   "source": [
    "learn.save_encoder('fine_tune_enc')"
   ]
  },
  {
   "cell_type": "code",
   "execution_count": 22,
   "metadata": {},
   "outputs": [],
   "source": [
    "data_clas = (TextList.from_folder(path, vocab=data_lm.vocab)\n",
    "            .split_by_folder(valid='test')\n",
    "            .label_from_folder(classes=['neg','pos'])\n",
    "            .databunch(bs=50))"
   ]
  },
  {
   "cell_type": "code",
   "execution_count": 23,
   "metadata": {},
   "outputs": [],
   "source": [
    "data_clas.save('data_clas.pkl')"
   ]
  },
  {
   "cell_type": "code",
   "execution_count": 24,
   "metadata": {},
   "outputs": [
    {
     "data": {
      "text/html": [
       "<table border=\"1\" class=\"dataframe\">\n",
       "  <thead>\n",
       "    <tr style=\"text-align: right;\">\n",
       "      <th>text</th>\n",
       "      <th>target</th>\n",
       "    </tr>\n",
       "  </thead>\n",
       "  <tbody>\n",
       "    <tr>\n",
       "      <td>xxbos xxmaj match 1 : xxmaj tag xxmaj team xxmaj table xxmaj match xxmaj bubba xxmaj ray and xxmaj spike xxmaj dudley vs xxmaj eddie xxmaj guerrero and xxmaj chris xxmaj benoit xxmaj bubba xxmaj ray and xxmaj spike xxmaj dudley started things off with a xxmaj tag xxmaj team xxmaj table xxmaj match against xxmaj eddie xxmaj guerrero and xxmaj chris xxmaj benoit . xxmaj according to the rules</td>\n",
       "      <td>pos</td>\n",
       "    </tr>\n",
       "    <tr>\n",
       "      <td>xxbos * * xxmaj attention xxmaj spoilers * * \\n \\n  xxmaj first of all , let me say that xxmaj rob xxmaj roy is one of the best films of the 90 's . xxmaj it was an amazing achievement for all those involved , especially the acting of xxmaj liam xxmaj neeson , xxmaj jessica xxmaj lange , xxmaj john xxmaj hurt , xxmaj brian xxmaj cox</td>\n",
       "      <td>pos</td>\n",
       "    </tr>\n",
       "    <tr>\n",
       "      <td>xxbos xxmaj titanic directed by xxmaj james xxmaj cameron presents a fictional love story on the historical setting of the xxmaj titanic . xxmaj the plot is simple , xxunk , or not for those who love plots that twist and turn and keep you in suspense . xxmaj the end of the movie can be figured out within minutes of the start of the film , but the love</td>\n",
       "      <td>pos</td>\n",
       "    </tr>\n",
       "    <tr>\n",
       "      <td>xxbos xxmaj some have praised _ xxunk _ as a xxmaj disney adventure for adults . i do n't think so -- at least not for thinking adults . \\n \\n  xxmaj this script suggests a beginning as a live - action movie , that struck someone as the type of crap you can not sell to adults anymore . xxmaj the \" crack staff \" of many older</td>\n",
       "      <td>neg</td>\n",
       "    </tr>\n",
       "    <tr>\n",
       "      <td>xxbos xxmaj this movie was recently released on xxup dvd in the xxup us and i finally got the chance to see this hard - to - find gem . xxmaj it even came with original theatrical previews of other xxmaj italian horror classics like \" xxup xxunk \" and \" xxup beyond xxup the xxup darkness \" . xxmaj unfortunately , the previews were the best thing about this</td>\n",
       "      <td>neg</td>\n",
       "    </tr>\n",
       "  </tbody>\n",
       "</table>"
      ],
      "text/plain": [
       "<IPython.core.display.HTML object>"
      ]
     },
     "metadata": {},
     "output_type": "display_data"
    }
   ],
   "source": [
    "data_clas = load_data(path, 'data_clas.pkl', bs=50)\n",
    "data_clas.show_batch()"
   ]
  },
  {
   "cell_type": "code",
   "execution_count": 25,
   "metadata": {},
   "outputs": [
    {
     "ename": "FileNotFoundError",
     "evalue": "[Errno 2] No such file or directory: '/tmp/.fastai/data/imdb/models/fine_tune_enc.pth'",
     "output_type": "error",
     "traceback": [
      "\u001b[0;31m---------------------------------------------------------------------------\u001b[0m",
      "\u001b[0;31mFileNotFoundError\u001b[0m                         Traceback (most recent call last)",
      "\u001b[0;32m<ipython-input-25-157a131cfc23>\u001b[0m in \u001b[0;36m<module>\u001b[0;34m\u001b[0m\n\u001b[1;32m      1\u001b[0m \u001b[0mlearn\u001b[0m \u001b[0;34m=\u001b[0m \u001b[0mtext_classifier_learner\u001b[0m\u001b[0;34m(\u001b[0m\u001b[0mdata_clas\u001b[0m\u001b[0;34m,\u001b[0m \u001b[0mAWD_LSTM\u001b[0m\u001b[0;34m,\u001b[0m \u001b[0mdrop_mult\u001b[0m\u001b[0;34m=\u001b[0m\u001b[0;36m0.5\u001b[0m\u001b[0;34m)\u001b[0m\u001b[0;34m\u001b[0m\u001b[0m\n\u001b[0;32m----> 2\u001b[0;31m \u001b[0mlearn\u001b[0m\u001b[0;34m.\u001b[0m\u001b[0mload_encoder\u001b[0m\u001b[0;34m(\u001b[0m\u001b[0;34m'fine_tune_enc'\u001b[0m\u001b[0;34m)\u001b[0m\u001b[0;34m\u001b[0m\u001b[0m\n\u001b[0m",
      "\u001b[0;32m/opt/conda/lib/python3.6/site-packages/fastai/text/learner.py\u001b[0m in \u001b[0;36mload_encoder\u001b[0;34m(self, name, device)\u001b[0m\n\u001b[1;32m     67\u001b[0m         \u001b[0;32mif\u001b[0m \u001b[0mdevice\u001b[0m \u001b[0;32mis\u001b[0m \u001b[0;32mNone\u001b[0m\u001b[0;34m:\u001b[0m \u001b[0mdevice\u001b[0m \u001b[0;34m=\u001b[0m \u001b[0mself\u001b[0m\u001b[0;34m.\u001b[0m\u001b[0mdata\u001b[0m\u001b[0;34m.\u001b[0m\u001b[0mdevice\u001b[0m\u001b[0;34m\u001b[0m\u001b[0m\n\u001b[1;32m     68\u001b[0m         \u001b[0;32mif\u001b[0m \u001b[0mhasattr\u001b[0m\u001b[0;34m(\u001b[0m\u001b[0mencoder\u001b[0m\u001b[0;34m,\u001b[0m \u001b[0;34m'module'\u001b[0m\u001b[0;34m)\u001b[0m\u001b[0;34m:\u001b[0m \u001b[0mencoder\u001b[0m \u001b[0;34m=\u001b[0m \u001b[0mencoder\u001b[0m\u001b[0;34m.\u001b[0m\u001b[0mmodule\u001b[0m\u001b[0;34m\u001b[0m\u001b[0m\n\u001b[0;32m---> 69\u001b[0;31m         \u001b[0mencoder\u001b[0m\u001b[0;34m.\u001b[0m\u001b[0mload_state_dict\u001b[0m\u001b[0;34m(\u001b[0m\u001b[0mtorch\u001b[0m\u001b[0;34m.\u001b[0m\u001b[0mload\u001b[0m\u001b[0;34m(\u001b[0m\u001b[0mself\u001b[0m\u001b[0;34m.\u001b[0m\u001b[0mpath\u001b[0m\u001b[0;34m/\u001b[0m\u001b[0mself\u001b[0m\u001b[0;34m.\u001b[0m\u001b[0mmodel_dir\u001b[0m\u001b[0;34m/\u001b[0m\u001b[0;34mf'{name}.pth'\u001b[0m\u001b[0;34m)\u001b[0m\u001b[0;34m)\u001b[0m\u001b[0;34m\u001b[0m\u001b[0m\n\u001b[0m\u001b[1;32m     70\u001b[0m         \u001b[0mencoder\u001b[0m\u001b[0;34m.\u001b[0m\u001b[0mload_state_dict\u001b[0m\u001b[0;34m(\u001b[0m\u001b[0mtorch\u001b[0m\u001b[0;34m.\u001b[0m\u001b[0mload\u001b[0m\u001b[0;34m(\u001b[0m\u001b[0mself\u001b[0m\u001b[0;34m.\u001b[0m\u001b[0mpath\u001b[0m\u001b[0;34m/\u001b[0m\u001b[0mself\u001b[0m\u001b[0;34m.\u001b[0m\u001b[0mmodel_dir\u001b[0m\u001b[0;34m/\u001b[0m\u001b[0;34mf'{name}.pth'\u001b[0m\u001b[0;34m,\u001b[0m \u001b[0mmap_location\u001b[0m\u001b[0;34m=\u001b[0m\u001b[0mdevice\u001b[0m\u001b[0;34m)\u001b[0m\u001b[0;34m)\u001b[0m\u001b[0;34m\u001b[0m\u001b[0m\n\u001b[1;32m     71\u001b[0m         \u001b[0mself\u001b[0m\u001b[0;34m.\u001b[0m\u001b[0mfreeze\u001b[0m\u001b[0;34m(\u001b[0m\u001b[0;34m)\u001b[0m\u001b[0;34m\u001b[0m\u001b[0m\n",
      "\u001b[0;32m/opt/conda/lib/python3.6/site-packages/torch/serialization.py\u001b[0m in \u001b[0;36mload\u001b[0;34m(f, map_location, pickle_module, **pickle_load_args)\u001b[0m\n\u001b[1;32m    383\u001b[0m     \u001b[0;32melif\u001b[0m \u001b[0;34m(\u001b[0m\u001b[0msys\u001b[0m\u001b[0;34m.\u001b[0m\u001b[0mversion_info\u001b[0m\u001b[0;34m[\u001b[0m\u001b[0;36m0\u001b[0m\u001b[0;34m]\u001b[0m \u001b[0;34m==\u001b[0m \u001b[0;36m3\u001b[0m \u001b[0;32mand\u001b[0m \u001b[0misinstance\u001b[0m\u001b[0;34m(\u001b[0m\u001b[0mf\u001b[0m\u001b[0;34m,\u001b[0m \u001b[0mpathlib\u001b[0m\u001b[0;34m.\u001b[0m\u001b[0mPath\u001b[0m\u001b[0;34m)\u001b[0m\u001b[0;34m)\u001b[0m\u001b[0;34m:\u001b[0m\u001b[0;34m\u001b[0m\u001b[0m\n\u001b[1;32m    384\u001b[0m         \u001b[0mnew_fd\u001b[0m \u001b[0;34m=\u001b[0m \u001b[0;32mTrue\u001b[0m\u001b[0;34m\u001b[0m\u001b[0m\n\u001b[0;32m--> 385\u001b[0;31m         \u001b[0mf\u001b[0m \u001b[0;34m=\u001b[0m \u001b[0mf\u001b[0m\u001b[0;34m.\u001b[0m\u001b[0mopen\u001b[0m\u001b[0;34m(\u001b[0m\u001b[0;34m'rb'\u001b[0m\u001b[0;34m)\u001b[0m\u001b[0;34m\u001b[0m\u001b[0m\n\u001b[0m\u001b[1;32m    386\u001b[0m     \u001b[0;32mtry\u001b[0m\u001b[0;34m:\u001b[0m\u001b[0;34m\u001b[0m\u001b[0m\n\u001b[1;32m    387\u001b[0m         \u001b[0;32mreturn\u001b[0m \u001b[0m_load\u001b[0m\u001b[0;34m(\u001b[0m\u001b[0mf\u001b[0m\u001b[0;34m,\u001b[0m \u001b[0mmap_location\u001b[0m\u001b[0;34m,\u001b[0m \u001b[0mpickle_module\u001b[0m\u001b[0;34m,\u001b[0m \u001b[0;34m**\u001b[0m\u001b[0mpickle_load_args\u001b[0m\u001b[0;34m)\u001b[0m\u001b[0;34m\u001b[0m\u001b[0m\n",
      "\u001b[0;32m/opt/conda/lib/python3.6/pathlib.py\u001b[0m in \u001b[0;36mopen\u001b[0;34m(self, mode, buffering, encoding, errors, newline)\u001b[0m\n\u001b[1;32m   1179\u001b[0m             \u001b[0mself\u001b[0m\u001b[0;34m.\u001b[0m\u001b[0m_raise_closed\u001b[0m\u001b[0;34m(\u001b[0m\u001b[0;34m)\u001b[0m\u001b[0;34m\u001b[0m\u001b[0m\n\u001b[1;32m   1180\u001b[0m         return io.open(str(self), mode, buffering, encoding, errors, newline,\n\u001b[0;32m-> 1181\u001b[0;31m                        opener=self._opener)\n\u001b[0m\u001b[1;32m   1182\u001b[0m \u001b[0;34m\u001b[0m\u001b[0m\n\u001b[1;32m   1183\u001b[0m     \u001b[0;32mdef\u001b[0m \u001b[0mread_bytes\u001b[0m\u001b[0;34m(\u001b[0m\u001b[0mself\u001b[0m\u001b[0;34m)\u001b[0m\u001b[0;34m:\u001b[0m\u001b[0;34m\u001b[0m\u001b[0m\n",
      "\u001b[0;32m/opt/conda/lib/python3.6/pathlib.py\u001b[0m in \u001b[0;36m_opener\u001b[0;34m(self, name, flags, mode)\u001b[0m\n\u001b[1;32m   1033\u001b[0m     \u001b[0;32mdef\u001b[0m \u001b[0m_opener\u001b[0m\u001b[0;34m(\u001b[0m\u001b[0mself\u001b[0m\u001b[0;34m,\u001b[0m \u001b[0mname\u001b[0m\u001b[0;34m,\u001b[0m \u001b[0mflags\u001b[0m\u001b[0;34m,\u001b[0m \u001b[0mmode\u001b[0m\u001b[0;34m=\u001b[0m\u001b[0;36m0o666\u001b[0m\u001b[0;34m)\u001b[0m\u001b[0;34m:\u001b[0m\u001b[0;34m\u001b[0m\u001b[0m\n\u001b[1;32m   1034\u001b[0m         \u001b[0;31m# A stub for the opener argument to built-in open()\u001b[0m\u001b[0;34m\u001b[0m\u001b[0;34m\u001b[0m\u001b[0m\n\u001b[0;32m-> 1035\u001b[0;31m         \u001b[0;32mreturn\u001b[0m \u001b[0mself\u001b[0m\u001b[0;34m.\u001b[0m\u001b[0m_accessor\u001b[0m\u001b[0;34m.\u001b[0m\u001b[0mopen\u001b[0m\u001b[0;34m(\u001b[0m\u001b[0mself\u001b[0m\u001b[0;34m,\u001b[0m \u001b[0mflags\u001b[0m\u001b[0;34m,\u001b[0m \u001b[0mmode\u001b[0m\u001b[0;34m)\u001b[0m\u001b[0;34m\u001b[0m\u001b[0m\n\u001b[0m\u001b[1;32m   1036\u001b[0m \u001b[0;34m\u001b[0m\u001b[0m\n\u001b[1;32m   1037\u001b[0m     \u001b[0;32mdef\u001b[0m \u001b[0m_raw_open\u001b[0m\u001b[0;34m(\u001b[0m\u001b[0mself\u001b[0m\u001b[0;34m,\u001b[0m \u001b[0mflags\u001b[0m\u001b[0;34m,\u001b[0m \u001b[0mmode\u001b[0m\u001b[0;34m=\u001b[0m\u001b[0;36m0o777\u001b[0m\u001b[0;34m)\u001b[0m\u001b[0;34m:\u001b[0m\u001b[0;34m\u001b[0m\u001b[0m\n",
      "\u001b[0;32m/opt/conda/lib/python3.6/pathlib.py\u001b[0m in \u001b[0;36mwrapped\u001b[0;34m(pathobj, *args)\u001b[0m\n\u001b[1;32m    385\u001b[0m         \u001b[0;34m@\u001b[0m\u001b[0mfunctools\u001b[0m\u001b[0;34m.\u001b[0m\u001b[0mwraps\u001b[0m\u001b[0;34m(\u001b[0m\u001b[0mstrfunc\u001b[0m\u001b[0;34m)\u001b[0m\u001b[0;34m\u001b[0m\u001b[0m\n\u001b[1;32m    386\u001b[0m         \u001b[0;32mdef\u001b[0m \u001b[0mwrapped\u001b[0m\u001b[0;34m(\u001b[0m\u001b[0mpathobj\u001b[0m\u001b[0;34m,\u001b[0m \u001b[0;34m*\u001b[0m\u001b[0margs\u001b[0m\u001b[0;34m)\u001b[0m\u001b[0;34m:\u001b[0m\u001b[0;34m\u001b[0m\u001b[0m\n\u001b[0;32m--> 387\u001b[0;31m             \u001b[0;32mreturn\u001b[0m \u001b[0mstrfunc\u001b[0m\u001b[0;34m(\u001b[0m\u001b[0mstr\u001b[0m\u001b[0;34m(\u001b[0m\u001b[0mpathobj\u001b[0m\u001b[0;34m)\u001b[0m\u001b[0;34m,\u001b[0m \u001b[0;34m*\u001b[0m\u001b[0margs\u001b[0m\u001b[0;34m)\u001b[0m\u001b[0;34m\u001b[0m\u001b[0m\n\u001b[0m\u001b[1;32m    388\u001b[0m         \u001b[0;32mreturn\u001b[0m \u001b[0mstaticmethod\u001b[0m\u001b[0;34m(\u001b[0m\u001b[0mwrapped\u001b[0m\u001b[0;34m)\u001b[0m\u001b[0;34m\u001b[0m\u001b[0m\n\u001b[1;32m    389\u001b[0m \u001b[0;34m\u001b[0m\u001b[0m\n",
      "\u001b[0;31mFileNotFoundError\u001b[0m: [Errno 2] No such file or directory: '/tmp/.fastai/data/imdb/models/fine_tune_enc.pth'"
     ]
    }
   ],
   "source": [
    "learn = text_classifier_learner(data_clas, AWD_LSTM, drop_mult=0.5)\n",
    "learn.load_encoder('fine_tune_enc')"
   ]
  },
  {
   "cell_type": "code",
   "execution_count": 26,
   "metadata": {},
   "outputs": [
    {
     "data": {
      "text/html": [],
      "text/plain": [
       "<IPython.core.display.HTML object>"
      ]
     },
     "metadata": {},
     "output_type": "display_data"
    },
    {
     "name": "stdout",
     "output_type": "stream",
     "text": [
      "LR Finder is complete, type {learner_name}.recorder.plot() to see the graph.\n"
     ]
    }
   ],
   "source": [
    "learn.lr_find()"
   ]
  },
  {
   "cell_type": "code",
   "execution_count": 27,
   "metadata": {},
   "outputs": [
    {
     "data": {
      "image/png": "[encoded data removed]",
      "text/plain": [
       "<Figure size 432x288 with 1 Axes>"
      ]
     },
     "metadata": {
      "needs_background": "light"
     },
     "output_type": "display_data"
    }
   ],
   "source": [
    "learn.recorder.plot()"
   ]
  },
  {
   "cell_type": "code",
   "execution_count": 28,
   "metadata": {},
   "outputs": [
    {
     "data": {
      "text/html": [
       "<table border=\"1\" class=\"dataframe\">\n",
       "  <thead>\n",
       "    <tr style=\"text-align: left;\">\n",
       "      <th>epoch</th>\n",
       "      <th>train_loss</th>\n",
       "      <th>valid_loss</th>\n",
       "      <th>accuracy</th>\n",
       "      <th>time</th>\n",
       "    </tr>\n",
       "  </thead>\n",
       "  <tbody>\n",
       "    <tr>\n",
       "      <td>0</td>\n",
       "      <td>0.693447</td>\n",
       "      <td>0.721636</td>\n",
       "      <td>0.613120</td>\n",
       "      <td>02:41</td>\n",
       "    </tr>\n",
       "  </tbody>\n",
       "</table>"
      ],
      "text/plain": [
       "<IPython.core.display.HTML object>"
      ]
     },
     "metadata": {},
     "output_type": "display_data"
    }
   ],
   "source": [
    "learn.fit_one_cycle(1, 2e-2, moms=(0.8,0.7))"
   ]
  },
  {
   "cell_type": "code",
   "execution_count": 29,
   "metadata": {},
   "outputs": [],
   "source": [
    "learn.save('first')"
   ]
  },
  {
   "cell_type": "code",
   "execution_count": 30,
   "metadata": {},
   "outputs": [
    {
     "data": {
      "text/plain": [
       "RNNLearner(data=TextClasDataBunch;\n",
       "\n",
       "Train: LabelList (25000 items)\n",
       "x: TextList\n",
       "xxbos xxmaj chances are if i watched this again i might get physically sick , the film is so annoying xxrep 5 . unless you believe in psychics , re - incarnation and the other xxunk pocus which this promotes big - time . xxmaj the \" re - cycling of souls , \" they call it here . xxmaj puh - leeze . \n",
       " \n",
       "  xxmaj this story has been done several times before with such films as \" xxmaj heaven xxmaj can xxmaj wait . \" xxmaj it 's also been done a lot better . xxmaj too bad they had to waste the talents of xxmaj robert xxmaj downey xxmaj jr. , xxmaj cybill xxmaj shepherd , xxmaj ryan o'neal and xxmaj mary xxmaj stuart xxmaj masterson . \n",
       " \n",
       "  xxmaj at least it 's a pretty tame film , language - wise . xxmaj that 's about the only redeeming quality of this movie .,xxbos i saw this movie once a long time ago , and i have no desire to ever see it again . \n",
       " \n",
       "  xxmaj this movie is about xxmaj preston xxmaj waters , a hard - lucked preteen , who always seems to be overlooked by his family and who always seems to be short on cash . xxmaj all this changes when a bank robber runs over xxmaj preston 's bike and passes him a blank check as compensation . xxmaj preston uses the check to withdraw $ 1 million from the bank ( ironically , the money belongs to the bank robber who gave him the check ) . xxmaj preston then buys a mansion and says that he 's working as the assistant of a mysterious and wealthy xxunk named xxmaj mr. xxmaj macintosh ( named after his computer ) . xxmaj after that , he just goes crazy with the money . \n",
       " \n",
       "  xxmaj on paper , this sounds like a great idea . xxmaj however , on screen , it is one of the xxunk movies i 've ever seen . xxmaj for one thing , it 's too unbelievable . i know some parts of the movie were meant to be incredible , but i draw the line at a twelve - year - old boy going out with a thirty - year - old woman , and being put in charge of a imaginary person 's small fortune . xxmaj also , this was a shallow movie with weak acting , a predictable plot line and characters who are less than memorable . xxmaj the characters were either cheesy , over the top , annoying , or underdeveloped . xxmaj but \" xxmaj juice \" was a funny character . \n",
       " \n",
       "  xxmaj if you 're looking for a good movie to watch with your family , skip this one .,xxbos xxmaj storyline : xxmaj the film spanning xxunk hours covers in adequate details the happenings at the xxmaj kargil sector near the xxup loc in 1999 when the xxmaj pakistani xxunk had crossed the xxup loc and had entered deep into the xxmaj indian territory and the xxmaj indian xxmaj retaliation . xxmaj to know more about the story , i would suggest readers to read the news - items pertaining to xxmaj kargil . \n",
       " \n",
       "  xxmaj comment : xxmaj if one is looking for a formula story in this movie , then one can be sure that it is absent . xxup loc is a story of xxmaj pure sacrifice , patriotism , courage and lots and lots of bullets and xxmaj blood . xxmaj the movie hall where i saw this film was full of whistles and cheers when the xxmaj film shows xxmaj indian xxmaj bravery . xxmaj movie audience seemed similar to xxmaj audiences like in an xxmaj india vs xxmaj pak cricket match . \n",
       " \n",
       "  xxmaj watch the movie as a tribute to the xxmaj army 's sacrifice and for the characterization of the real - life war heroes ( 4 xxup pvc honoured heroes ) who have sacrificed their lives so that we could see this day . xxmaj the movie has made a brilliant portrayal of the xxmaj army who have battled all odds in rough weather conditions . xxmaj the film 's negatives are that it is too stretched and the songs are extremely boring .,xxbos xxmaj first , xxup ifc runs xxmaj town and xxmaj country , and now this . xxmaj the difference between that stinker and this xxmaj pink xxmaj panther rip - off is that xxmaj town and xxmaj country was watchable . xxmaj this is n't . \n",
       " \n",
       "  i can only surmise that the cast signed up for this so they could goof off in xxmaj europe on somebody else 's dime . xxmaj belushi is especially irritating . xxmaj his scene with xxmaj candy ( doing a z - grade xxmaj dom deluise ) was torture . xxmaj speaking of torture , five minutes of the talentless xxmaj shepherd , and i bet the prisoners at xxmaj gitmo would crack like walnuts ! \n",
       " \n",
       "  xxmaj the real \" xxmaj crime \" ( besides this being green - lighted ) is xxmaj shepherd 's character : a mousy wife who takes a xxmaj monte xxmaj carlo casino for a half - million bucks ! xxmaj if you buy that , i have some xxunk property in xxmaj arizona you might be interested in !,xxbos i simply ca nt understand why all these relics from the xxmaj ceausescu era refuse to let go . xxmaj one can see clearly how frustrated they were during the commie censorship that forbade them so many things to show in their movies , and now they imagine its dunno what big deal of artsy - fartsy freedom so fill the screen with people defecating , urinating , vomiting , swearing , and any other kinds of hideousness imaginable . xxup this xxup is xxup not xxup cinema , xxup friends xxup and xxup neighbors ! xxmaj this is simply visual perversion . xxmaj forget about xxmaj bunuels xxmaj chien xxmaj andalou , about xxmaj david xxmaj lynch , about xxmaj forman and neorealism and other movie makers who were able to work with an aesthetics of ugliness . xxup those people were mastering their jobs - well , you xxmaj do n't ! xxmaj do us a favor , all you xxmaj xxunk and xxmaj xxunk and xxmaj xxunk and xxmaj xxunk and xxmaj xxunk and xxmaj xxunk and other obsolete old - timers , and leave us alone ! xxmaj its bit time to see some xxmaj romanian xxup movies on screen , enough with your immature xxunk ! xxmaj you are not directors , you are xxup illiterate ! ! !\n",
       "y: CategoryList\n",
       "neg,neg,neg,neg,neg\n",
       "Path: /tmp/.fastai/data/imdb;\n",
       "\n",
       "Valid: LabelList (25000 items)\n",
       "x: TextList\n",
       "xxbos xxmaj every movie i have xxunk because xxmaj leonard xxmaj maltin praised it to the skies has blown chunks ! xxmaj every single one ! xxmaj when will i ever learn ? \n",
       " \n",
       "  xxmaj evie is a raving xxmaj old xxmaj bag who thinks nothing of saying she 's dying of breast cancer to get her way ! xxmaj laura is an insufferable xxmaj medusa filled with xxmaj the xxmaj holy xxmaj spirit ( and her hubby 's protégé ) ! xxmaj caught between these harpies is xxmaj medusa 's dumb - as - a - rock boy who has been pressed into weed - pulling servitude by xxmaj the xxmaj old xxmaj bag ! \n",
       " \n",
       "  xxmaj as i said , when will i ever learn ? \n",
       " \n",
       "  i was temporarily lifted out of my malaise when xxmaj the xxmaj old xxmaj bag stuck her head in a sink , but , unfortunately , she did not die . i was temporarily lifted out of my malaise again when xxmaj medusa got mowed down , but , unfortunately , she did not die . xxmaj it should be a capital offense to torture audiences like this ! \n",
       " \n",
       "  xxmaj without xxmaj harry xxmaj potter to kick him around , xxmaj rupert xxmaj grint is just a pair of big blue eyes that practically bulge out of its sockets . xxmaj julie xxmaj walters 's scenery - chewing ( especially the scene when she \" plays \" xxmaj god ) is even more shameless than her character . \n",
       " \n",
       "  xxmaj at least this xxmaj harold bangs some bimbo instead of xxmaj maude . xxmaj for that , i am truly grateful . xxmaj and if you 're reading this xxmaj mr. xxmaj maltin , you owe me $ 3.99 !,xxbos xxmaj cyclone is a piece of dreck with little redeeming value , even on the so bad its entertaining front . a friend of mine took the tape from an overflowing xxmaj st. xxmaj vincent xxunk clothes bin . xxmaj okay , that may be a little bit dodgy but it was meant to be a clothes bin , not a crappy old xxup vhs bin , something the less fortunate members of our society do n't really need to make their lives better . xxmaj it could be considered a mercy . xxmaj watching a movie like xxmaj cyclone would really only add to their problems . xxmaj anyway the basic premise of a woman with a super - powerful motorcycle that it armed to the teeth with rockets and lasers is n't even properly exploited . xxmaj the two ' high speed ' chase sequences involve vehicles travelling at less than hair raising speeds of around 40 xxup xxunk and a super - fast motorcycle that is in danger of being overtaken by a crappy old station wagon is not that awe inspiring when you get down to it . xxmaj there is only one scene where the bikes goofy weaponry is used , at the film 's climax , and it is laughably ineffectual , or just laughable , when it is . xxmaj this includes laser beams that look like they should be coming out of the hands of an evil wizard in a cheesy eighties sword and sorcery that produced large bursts of flame which seem to have no noticeable effect on their targets even when they hit directly . xxmaj the rest of the movie is just tedious hard to watch filler . xxmaj lots of bad actors , yes even xxmaj combs and xxmaj landau suck in this , most of whom seem like they have been lifted from the set of a porno movie stand around exchanging really bad dialogue in a desperate attempt to pus forward the barely coherent plot . xxmaj there are a few badly staged fight sequences and some excruciatingly unfunny comic relief scenes with some cops and the owner of the motor cycle repair shop . xxmaj comedy of the sub xxmaj benny xxmaj hill horny old man ca n't stop staring at the female leads chest variety . xxmaj basically the ' money ' scenes involving the bike actually doing stuff are few and lame and the rest is clunky filler material . xxmaj skip it .,xxbos xxmaj it 's really just terrible . xxmaj quaid overacts more than xxmaj shatner . xxmaj the part where xxmaj elvis walks in and says \" xxmaj you can have it all \" just kills anything that might have been good in this movie that 's bad enough as it is . xxmaj drug use was completely snow coated , the only thing that had anything to do with his life was the bit about him wedding his cousin . xxmaj quaid also looks nothing like xxmaj lewis and has dark roots and eyebrows . i wish this could be re - made in the future with someone who does n't try so hard . a bigger budget would n't hurt and maybe more about his actual life . i was very , very disappointed in xxmaj quaid . xxmaj do n't watch this movie or you will be too .,xxbos xxmaj after three hours in the xxmaj cinema hall , the strongest impression garnered was that their is something amiss . xxmaj what was clear was that the xxmaj directors forgot to direct , the actors to act and most importantly the script writer to write . xxmaj xxunk shouted without reason and made one cringe . xxmaj the script moved on and on with lots of avoidable twists and turns ending in now , too familiar xxmaj priyadarshan theory of xxmaj converging actors at a single point . xxmaj this theory worked well in xxmaj hera - xxmaj pheri and xxmaj hungama but somehow managed to irritate this time , so did the habit of every actor 's incapacity to answer asked of them directly . xxmaj simplest questions such as \" what is your name would be repeated n times \" . \n",
       " \n",
       "  xxmaj finally what was amiss was that the director forgot that his audience have something called intelligence .,xxbos xxmaj the film opens with a cult leader attempting to resurrect a dead member with his followers chanting for his rebirth as the sun strikes upon them in the desert . xxunk xxmaj xxunk wholeheartedly in his power , and gets so worked up that he collapses with what appeared to be a heart attack . xxmaj unable to keep him alive , all those involved , doctors and nurses , are sentenced for attack with xxmaj reanhauer 's demonic spirit invading the curvaceous body of nurse xxmaj xxunk .. big - chested xxmaj jill xxmaj xxunk each one using her as a tool of vengeance . xxmaj forced against her will , with no memory of inflicting such harm , xxmaj sherri 's host body murders selected victims . xxmaj fortunately , xxmaj sherri 's fellow co - worker , nurse xxunk xxmaj xxunk a rather blossoming romance with a blinded patient , xxmaj marcus xxunk xxmaj xxunk ) , once a star football player , whose mother was a practitioner of voodoo . xxmaj through xxmaj marcus ' knowledge , passed down from mom , xxmaj tara finds out about possession and how to possibly save xxmaj sherri before she murders everyone unknowingly . xxmaj meanwhile , xxmaj sherri 's lover , xxmaj dr. xxmaj peter xxunk xxmaj xxunk about her present condition and welfare . \n",
       " \n",
       "  xxmaj well , this was my first xxmaj al xxmaj adamson film and i must agree with his detractors that , just from this film alone , it seems he holds them together with paper clips and xxmaj elmer 's glue . xxmaj the animation with which we see the spirit take control of xxmaj sherri is beyond awful and rather laughable . a little soft - core nonsense as filler , some demonic possession thrown in the xxunk actually speaks in another voice when she 's possessed ) , with naughty nurse xxunk .. the three nurses focused on in the film all are quite sexually active and free - xxunk a little bit violence / gore . xxmaj the film is essentially shot in tiny rooms with dull dialogue from a rather mundane cast . xxmaj the sexual situations are n't that hard - core and xxmaj al often shoots them without revealing all that much . xxmaj the film looks embarrassingly cheap and there 's an absence of thrills , although the chilling xxunk .. which sounds like something from xxmaj dark xxmaj xxunk help a little bit . xxmaj jacobson and xxmaj mary xxmaj kay xxmaj xxunk .. as nurse xxmaj beth who seems to be a nymphomaniac if she 'll even screw a nutty patient , always complaining of illnesses he really does n't have , with enough chest hair to declare him a xxmaj xxunk bad looking , and xxmaj adamson 's story - line , although frail , is somewhat xxunk .. it seems he rarely directs films which are ) . xxmaj overall , the movie looks like it cost 5 bucks and xxmaj adamson just can not overcome the budgetary xxunk .. or , in my opinion , create an unpleasant enough atmosphere due to a sometimes plodding narrative and tedious scenes which do little for the story ) . xxmaj john f xxmaj xxunk has the role of the hospital 's psychiatrist who wants to commit xxmaj sherri , not believing the idea that she was xxunk constantly bickers with xxmaj peter over her . i watched the unrated \" lost \" version which i guess is the real version to watch of xxmaj nurse xxmaj sherri .\n",
       "y: CategoryList\n",
       "neg,neg,neg,neg,neg\n",
       "Path: /tmp/.fastai/data/imdb;\n",
       "\n",
       "Test: None, model=SequentialRNN(\n",
       "  (0): MultiBatchEncoder(\n",
       "    (module): AWD_LSTM(\n",
       "      (encoder): Embedding(49856, 400, padding_idx=1)\n",
       "      (encoder_dp): EmbeddingDropout(\n",
       "        (emb): Embedding(49856, 400, padding_idx=1)\n",
       "      )\n",
       "      (rnns): ModuleList(\n",
       "        (0): WeightDropout(\n",
       "          (module): LSTM(400, 1152, batch_first=True)\n",
       "        )\n",
       "        (1): WeightDropout(\n",
       "          (module): LSTM(1152, 1152, batch_first=True)\n",
       "        )\n",
       "        (2): WeightDropout(\n",
       "          (module): LSTM(1152, 400, batch_first=True)\n",
       "        )\n",
       "      )\n",
       "      (input_dp): RNNDropout()\n",
       "      (hidden_dps): ModuleList(\n",
       "        (0): RNNDropout()\n",
       "        (1): RNNDropout()\n",
       "        (2): RNNDropout()\n",
       "      )\n",
       "    )\n",
       "  )\n",
       "  (1): PoolingLinearClassifier(\n",
       "    (layers): Sequential(\n",
       "      (0): BatchNorm1d(1200, eps=1e-05, momentum=0.1, affine=True, track_running_stats=True)\n",
       "      (1): Dropout(p=0.2)\n",
       "      (2): Linear(in_features=1200, out_features=50, bias=True)\n",
       "      (3): ReLU(inplace)\n",
       "      (4): BatchNorm1d(50, eps=1e-05, momentum=0.1, affine=True, track_running_stats=True)\n",
       "      (5): Dropout(p=0.1)\n",
       "      (6): Linear(in_features=50, out_features=2, bias=True)\n",
       "    )\n",
       "  )\n",
       "), opt_func=functools.partial(<class 'torch.optim.adam.Adam'>, betas=(0.9, 0.99)), loss_func=FlattenedLoss of CrossEntropyLoss(), metrics=[<function accuracy at 0x7fa460efc9d8>], true_wd=True, bn_wd=True, wd=0.01, train_bn=True, path=PosixPath('/tmp/.fastai/data/imdb'), model_dir='models', callback_fns=[functools.partial(<class 'fastai.basic_train.Recorder'>, add_time=True, silent=False)], callbacks=[RNNTrainer\n",
       "learn: RNNLearner(data=TextClasDataBunch;\n",
       "\n",
       "Train: LabelList (25000 items)\n",
       "x: TextList\n",
       "xxbos xxmaj chances are if i watched this again i might get physically sick , the film is so annoying xxrep 5 . unless you believe in psychics , re - incarnation and the other xxunk pocus which this promotes big - time . xxmaj the \" re - cycling of souls , \" they call it here . xxmaj puh - leeze . \n",
       " \n",
       "  xxmaj this story has been done several times before with such films as \" xxmaj heaven xxmaj can xxmaj wait . \" xxmaj it 's also been done a lot better . xxmaj too bad they had to waste the talents of xxmaj robert xxmaj downey xxmaj jr. , xxmaj cybill xxmaj shepherd , xxmaj ryan o'neal and xxmaj mary xxmaj stuart xxmaj masterson . \n",
       " \n",
       "  xxmaj at least it 's a pretty tame film , language - wise . xxmaj that 's about the only redeeming quality of this movie .,xxbos i saw this movie once a long time ago , and i have no desire to ever see it again . \n",
       " \n",
       "  xxmaj this movie is about xxmaj preston xxmaj waters , a hard - lucked preteen , who always seems to be overlooked by his family and who always seems to be short on cash . xxmaj all this changes when a bank robber runs over xxmaj preston 's bike and passes him a blank check as compensation . xxmaj preston uses the check to withdraw $ 1 million from the bank ( ironically , the money belongs to the bank robber who gave him the check ) . xxmaj preston then buys a mansion and says that he 's working as the assistant of a mysterious and wealthy xxunk named xxmaj mr. xxmaj macintosh ( named after his computer ) . xxmaj after that , he just goes crazy with the money . \n",
       " \n",
       "  xxmaj on paper , this sounds like a great idea . xxmaj however , on screen , it is one of the xxunk movies i 've ever seen . xxmaj for one thing , it 's too unbelievable . i know some parts of the movie were meant to be incredible , but i draw the line at a twelve - year - old boy going out with a thirty - year - old woman , and being put in charge of a imaginary person 's small fortune . xxmaj also , this was a shallow movie with weak acting , a predictable plot line and characters who are less than memorable . xxmaj the characters were either cheesy , over the top , annoying , or underdeveloped . xxmaj but \" xxmaj juice \" was a funny character . \n",
       " \n",
       "  xxmaj if you 're looking for a good movie to watch with your family , skip this one .,xxbos xxmaj storyline : xxmaj the film spanning xxunk hours covers in adequate details the happenings at the xxmaj kargil sector near the xxup loc in 1999 when the xxmaj pakistani xxunk had crossed the xxup loc and had entered deep into the xxmaj indian territory and the xxmaj indian xxmaj retaliation . xxmaj to know more about the story , i would suggest readers to read the news - items pertaining to xxmaj kargil . \n",
       " \n",
       "  xxmaj comment : xxmaj if one is looking for a formula story in this movie , then one can be sure that it is absent . xxup loc is a story of xxmaj pure sacrifice , patriotism , courage and lots and lots of bullets and xxmaj blood . xxmaj the movie hall where i saw this film was full of whistles and cheers when the xxmaj film shows xxmaj indian xxmaj bravery . xxmaj movie audience seemed similar to xxmaj audiences like in an xxmaj india vs xxmaj pak cricket match . \n",
       " \n",
       "  xxmaj watch the movie as a tribute to the xxmaj army 's sacrifice and for the characterization of the real - life war heroes ( 4 xxup pvc honoured heroes ) who have sacrificed their lives so that we could see this day . xxmaj the movie has made a brilliant portrayal of the xxmaj army who have battled all odds in rough weather conditions . xxmaj the film 's negatives are that it is too stretched and the songs are extremely boring .,xxbos xxmaj first , xxup ifc runs xxmaj town and xxmaj country , and now this . xxmaj the difference between that stinker and this xxmaj pink xxmaj panther rip - off is that xxmaj town and xxmaj country was watchable . xxmaj this is n't . \n",
       " \n",
       "  i can only surmise that the cast signed up for this so they could goof off in xxmaj europe on somebody else 's dime . xxmaj belushi is especially irritating . xxmaj his scene with xxmaj candy ( doing a z - grade xxmaj dom deluise ) was torture . xxmaj speaking of torture , five minutes of the talentless xxmaj shepherd , and i bet the prisoners at xxmaj gitmo would crack like walnuts ! \n",
       " \n",
       "  xxmaj the real \" xxmaj crime \" ( besides this being green - lighted ) is xxmaj shepherd 's character : a mousy wife who takes a xxmaj monte xxmaj carlo casino for a half - million bucks ! xxmaj if you buy that , i have some xxunk property in xxmaj arizona you might be interested in !,xxbos i simply ca nt understand why all these relics from the xxmaj ceausescu era refuse to let go . xxmaj one can see clearly how frustrated they were during the commie censorship that forbade them so many things to show in their movies , and now they imagine its dunno what big deal of artsy - fartsy freedom so fill the screen with people defecating , urinating , vomiting , swearing , and any other kinds of hideousness imaginable . xxup this xxup is xxup not xxup cinema , xxup friends xxup and xxup neighbors ! xxmaj this is simply visual perversion . xxmaj forget about xxmaj bunuels xxmaj chien xxmaj andalou , about xxmaj david xxmaj lynch , about xxmaj forman and neorealism and other movie makers who were able to work with an aesthetics of ugliness . xxup those people were mastering their jobs - well , you xxmaj do n't ! xxmaj do us a favor , all you xxmaj xxunk and xxmaj xxunk and xxmaj xxunk and xxmaj xxunk and xxmaj xxunk and xxmaj xxunk and other obsolete old - timers , and leave us alone ! xxmaj its bit time to see some xxmaj romanian xxup movies on screen , enough with your immature xxunk ! xxmaj you are not directors , you are xxup illiterate ! ! !\n",
       "y: CategoryList\n",
       "neg,neg,neg,neg,neg\n",
       "Path: /tmp/.fastai/data/imdb;\n",
       "\n",
       "Valid: LabelList (25000 items)\n",
       "x: TextList\n",
       "xxbos xxmaj every movie i have xxunk because xxmaj leonard xxmaj maltin praised it to the skies has blown chunks ! xxmaj every single one ! xxmaj when will i ever learn ? \n",
       " \n",
       "  xxmaj evie is a raving xxmaj old xxmaj bag who thinks nothing of saying she 's dying of breast cancer to get her way ! xxmaj laura is an insufferable xxmaj medusa filled with xxmaj the xxmaj holy xxmaj spirit ( and her hubby 's protégé ) ! xxmaj caught between these harpies is xxmaj medusa 's dumb - as - a - rock boy who has been pressed into weed - pulling servitude by xxmaj the xxmaj old xxmaj bag ! \n",
       " \n",
       "  xxmaj as i said , when will i ever learn ? \n",
       " \n",
       "  i was temporarily lifted out of my malaise when xxmaj the xxmaj old xxmaj bag stuck her head in a sink , but , unfortunately , she did not die . i was temporarily lifted out of my malaise again when xxmaj medusa got mowed down , but , unfortunately , she did not die . xxmaj it should be a capital offense to torture audiences like this ! \n",
       " \n",
       "  xxmaj without xxmaj harry xxmaj potter to kick him around , xxmaj rupert xxmaj grint is just a pair of big blue eyes that practically bulge out of its sockets . xxmaj julie xxmaj walters 's scenery - chewing ( especially the scene when she \" plays \" xxmaj god ) is even more shameless than her character . \n",
       " \n",
       "  xxmaj at least this xxmaj harold bangs some bimbo instead of xxmaj maude . xxmaj for that , i am truly grateful . xxmaj and if you 're reading this xxmaj mr. xxmaj maltin , you owe me $ 3.99 !,xxbos xxmaj cyclone is a piece of dreck with little redeeming value , even on the so bad its entertaining front . a friend of mine took the tape from an overflowing xxmaj st. xxmaj vincent xxunk clothes bin . xxmaj okay , that may be a little bit dodgy but it was meant to be a clothes bin , not a crappy old xxup vhs bin , something the less fortunate members of our society do n't really need to make their lives better . xxmaj it could be considered a mercy . xxmaj watching a movie like xxmaj cyclone would really only add to their problems . xxmaj anyway the basic premise of a woman with a super - powerful motorcycle that it armed to the teeth with rockets and lasers is n't even properly exploited . xxmaj the two ' high speed ' chase sequences involve vehicles travelling at less than hair raising speeds of around 40 xxup xxunk and a super - fast motorcycle that is in danger of being overtaken by a crappy old station wagon is not that awe inspiring when you get down to it . xxmaj there is only one scene where the bikes goofy weaponry is used , at the film 's climax , and it is laughably ineffectual , or just laughable , when it is . xxmaj this includes laser beams that look like they should be coming out of the hands of an evil wizard in a cheesy eighties sword and sorcery that produced large bursts of flame which seem to have no noticeable effect on their targets even when they hit directly . xxmaj the rest of the movie is just tedious hard to watch filler . xxmaj lots of bad actors , yes even xxmaj combs and xxmaj landau suck in this , most of whom seem like they have been lifted from the set of a porno movie stand around exchanging really bad dialogue in a desperate attempt to pus forward the barely coherent plot . xxmaj there are a few badly staged fight sequences and some excruciatingly unfunny comic relief scenes with some cops and the owner of the motor cycle repair shop . xxmaj comedy of the sub xxmaj benny xxmaj hill horny old man ca n't stop staring at the female leads chest variety . xxmaj basically the ' money ' scenes involving the bike actually doing stuff are few and lame and the rest is clunky filler material . xxmaj skip it .,xxbos xxmaj it 's really just terrible . xxmaj quaid overacts more than xxmaj shatner . xxmaj the part where xxmaj elvis walks in and says \" xxmaj you can have it all \" just kills anything that might have been good in this movie that 's bad enough as it is . xxmaj drug use was completely snow coated , the only thing that had anything to do with his life was the bit about him wedding his cousin . xxmaj quaid also looks nothing like xxmaj lewis and has dark roots and eyebrows . i wish this could be re - made in the future with someone who does n't try so hard . a bigger budget would n't hurt and maybe more about his actual life . i was very , very disappointed in xxmaj quaid . xxmaj do n't watch this movie or you will be too .,xxbos xxmaj after three hours in the xxmaj cinema hall , the strongest impression garnered was that their is something amiss . xxmaj what was clear was that the xxmaj directors forgot to direct , the actors to act and most importantly the script writer to write . xxmaj xxunk shouted without reason and made one cringe . xxmaj the script moved on and on with lots of avoidable twists and turns ending in now , too familiar xxmaj priyadarshan theory of xxmaj converging actors at a single point . xxmaj this theory worked well in xxmaj hera - xxmaj pheri and xxmaj hungama but somehow managed to irritate this time , so did the habit of every actor 's incapacity to answer asked of them directly . xxmaj simplest questions such as \" what is your name would be repeated n times \" . \n",
       " \n",
       "  xxmaj finally what was amiss was that the director forgot that his audience have something called intelligence .,xxbos xxmaj the film opens with a cult leader attempting to resurrect a dead member with his followers chanting for his rebirth as the sun strikes upon them in the desert . xxunk xxmaj xxunk wholeheartedly in his power , and gets so worked up that he collapses with what appeared to be a heart attack . xxmaj unable to keep him alive , all those involved , doctors and nurses , are sentenced for attack with xxmaj reanhauer 's demonic spirit invading the curvaceous body of nurse xxmaj xxunk .. big - chested xxmaj jill xxmaj xxunk each one using her as a tool of vengeance . xxmaj forced against her will , with no memory of inflicting such harm , xxmaj sherri 's host body murders selected victims . xxmaj fortunately , xxmaj sherri 's fellow co - worker , nurse xxunk xxmaj xxunk a rather blossoming romance with a blinded patient , xxmaj marcus xxunk xxmaj xxunk ) , once a star football player , whose mother was a practitioner of voodoo . xxmaj through xxmaj marcus ' knowledge , passed down from mom , xxmaj tara finds out about possession and how to possibly save xxmaj sherri before she murders everyone unknowingly . xxmaj meanwhile , xxmaj sherri 's lover , xxmaj dr. xxmaj peter xxunk xxmaj xxunk about her present condition and welfare . \n",
       " \n",
       "  xxmaj well , this was my first xxmaj al xxmaj adamson film and i must agree with his detractors that , just from this film alone , it seems he holds them together with paper clips and xxmaj elmer 's glue . xxmaj the animation with which we see the spirit take control of xxmaj sherri is beyond awful and rather laughable . a little soft - core nonsense as filler , some demonic possession thrown in the xxunk actually speaks in another voice when she 's possessed ) , with naughty nurse xxunk .. the three nurses focused on in the film all are quite sexually active and free - xxunk a little bit violence / gore . xxmaj the film is essentially shot in tiny rooms with dull dialogue from a rather mundane cast . xxmaj the sexual situations are n't that hard - core and xxmaj al often shoots them without revealing all that much . xxmaj the film looks embarrassingly cheap and there 's an absence of thrills , although the chilling xxunk .. which sounds like something from xxmaj dark xxmaj xxunk help a little bit . xxmaj jacobson and xxmaj mary xxmaj kay xxmaj xxunk .. as nurse xxmaj beth who seems to be a nymphomaniac if she 'll even screw a nutty patient , always complaining of illnesses he really does n't have , with enough chest hair to declare him a xxmaj xxunk bad looking , and xxmaj adamson 's story - line , although frail , is somewhat xxunk .. it seems he rarely directs films which are ) . xxmaj overall , the movie looks like it cost 5 bucks and xxmaj adamson just can not overcome the budgetary xxunk .. or , in my opinion , create an unpleasant enough atmosphere due to a sometimes plodding narrative and tedious scenes which do little for the story ) . xxmaj john f xxmaj xxunk has the role of the hospital 's psychiatrist who wants to commit xxmaj sherri , not believing the idea that she was xxunk constantly bickers with xxmaj peter over her . i watched the unrated \" lost \" version which i guess is the real version to watch of xxmaj nurse xxmaj sherri .\n",
       "y: CategoryList\n",
       "neg,neg,neg,neg,neg\n",
       "Path: /tmp/.fastai/data/imdb;\n",
       "\n",
       "Test: None, model=SequentialRNN(\n",
       "  (0): MultiBatchEncoder(\n",
       "    (module): AWD_LSTM(\n",
       "      (encoder): Embedding(49856, 400, padding_idx=1)\n",
       "      (encoder_dp): EmbeddingDropout(\n",
       "        (emb): Embedding(49856, 400, padding_idx=1)\n",
       "      )\n",
       "      (rnns): ModuleList(\n",
       "        (0): WeightDropout(\n",
       "          (module): LSTM(400, 1152, batch_first=True)\n",
       "        )\n",
       "        (1): WeightDropout(\n",
       "          (module): LSTM(1152, 1152, batch_first=True)\n",
       "        )\n",
       "        (2): WeightDropout(\n",
       "          (module): LSTM(1152, 400, batch_first=True)\n",
       "        )\n",
       "      )\n",
       "      (input_dp): RNNDropout()\n",
       "      (hidden_dps): ModuleList(\n",
       "        (0): RNNDropout()\n",
       "        (1): RNNDropout()\n",
       "        (2): RNNDropout()\n",
       "      )\n",
       "    )\n",
       "  )\n",
       "  (1): PoolingLinearClassifier(\n",
       "    (layers): Sequential(\n",
       "      (0): BatchNorm1d(1200, eps=1e-05, momentum=0.1, affine=True, track_running_stats=True)\n",
       "      (1): Dropout(p=0.2)\n",
       "      (2): Linear(in_features=1200, out_features=50, bias=True)\n",
       "      (3): ReLU(inplace)\n",
       "      (4): BatchNorm1d(50, eps=1e-05, momentum=0.1, affine=True, track_running_stats=True)\n",
       "      (5): Dropout(p=0.1)\n",
       "      (6): Linear(in_features=50, out_features=2, bias=True)\n",
       "    )\n",
       "  )\n",
       "), opt_func=functools.partial(<class 'torch.optim.adam.Adam'>, betas=(0.9, 0.99)), loss_func=FlattenedLoss of CrossEntropyLoss(), metrics=[<function accuracy at 0x7fa460efc9d8>], true_wd=True, bn_wd=True, wd=0.01, train_bn=True, path=PosixPath('/tmp/.fastai/data/imdb'), model_dir='models', callback_fns=[functools.partial(<class 'fastai.basic_train.Recorder'>, add_time=True, silent=False)], callbacks=[...], layer_groups=[Sequential(\n",
       "  (0): Embedding(49856, 400, padding_idx=1)\n",
       "  (1): EmbeddingDropout(\n",
       "    (emb): Embedding(49856, 400, padding_idx=1)\n",
       "  )\n",
       "), Sequential(\n",
       "  (0): WeightDropout(\n",
       "    (module): LSTM(400, 1152, batch_first=True)\n",
       "  )\n",
       "  (1): RNNDropout()\n",
       "), Sequential(\n",
       "  (0): WeightDropout(\n",
       "    (module): LSTM(1152, 1152, batch_first=True)\n",
       "  )\n",
       "  (1): RNNDropout()\n",
       "), Sequential(\n",
       "  (0): WeightDropout(\n",
       "    (module): LSTM(1152, 400, batch_first=True)\n",
       "  )\n",
       "  (1): RNNDropout()\n",
       "), Sequential(\n",
       "  (0): PoolingLinearClassifier(\n",
       "    (layers): Sequential(\n",
       "      (0): BatchNorm1d(1200, eps=1e-05, momentum=0.1, affine=True, track_running_stats=True)\n",
       "      (1): Dropout(p=0.2)\n",
       "      (2): Linear(in_features=1200, out_features=50, bias=True)\n",
       "      (3): ReLU(inplace)\n",
       "      (4): BatchNorm1d(50, eps=1e-05, momentum=0.1, affine=True, track_running_stats=True)\n",
       "      (5): Dropout(p=0.1)\n",
       "      (6): Linear(in_features=50, out_features=2, bias=True)\n",
       "    )\n",
       "  )\n",
       ")], add_time=True, silent=None)\n",
       "alpha: 2.0\n",
       "beta: 1.0], layer_groups=[Sequential(\n",
       "  (0): Embedding(49856, 400, padding_idx=1)\n",
       "  (1): EmbeddingDropout(\n",
       "    (emb): Embedding(49856, 400, padding_idx=1)\n",
       "  )\n",
       "), Sequential(\n",
       "  (0): WeightDropout(\n",
       "    (module): LSTM(400, 1152, batch_first=True)\n",
       "  )\n",
       "  (1): RNNDropout()\n",
       "), Sequential(\n",
       "  (0): WeightDropout(\n",
       "    (module): LSTM(1152, 1152, batch_first=True)\n",
       "  )\n",
       "  (1): RNNDropout()\n",
       "), Sequential(\n",
       "  (0): WeightDropout(\n",
       "    (module): LSTM(1152, 400, batch_first=True)\n",
       "  )\n",
       "  (1): RNNDropout()\n",
       "), Sequential(\n",
       "  (0): PoolingLinearClassifier(\n",
       "    (layers): Sequential(\n",
       "      (0): BatchNorm1d(1200, eps=1e-05, momentum=0.1, affine=True, track_running_stats=True)\n",
       "      (1): Dropout(p=0.2)\n",
       "      (2): Linear(in_features=1200, out_features=50, bias=True)\n",
       "      (3): ReLU(inplace)\n",
       "      (4): BatchNorm1d(50, eps=1e-05, momentum=0.1, affine=True, track_running_stats=True)\n",
       "      (5): Dropout(p=0.1)\n",
       "      (6): Linear(in_features=50, out_features=2, bias=True)\n",
       "    )\n",
       "  )\n",
       ")], add_time=True, silent=None)"
      ]
     },
     "execution_count": 30,
     "metadata": {},
     "output_type": "execute_result"
    }
   ],
   "source": [
    "learn.load('first')"
   ]
  },
  {
   "cell_type": "code",
   "execution_count": 31,
   "metadata": {},
   "outputs": [
    {
     "data": {
      "text/html": [
       "<table border=\"1\" class=\"dataframe\">\n",
       "  <thead>\n",
       "    <tr style=\"text-align: left;\">\n",
       "      <th>epoch</th>\n",
       "      <th>train_loss</th>\n",
       "      <th>valid_loss</th>\n",
       "      <th>accuracy</th>\n",
       "      <th>time</th>\n",
       "    </tr>\n",
       "  </thead>\n",
       "  <tbody>\n",
       "    <tr>\n",
       "      <td>0</td>\n",
       "      <td>0.671176</td>\n",
       "      <td>0.671176</td>\n",
       "      <td>0.601000</td>\n",
       "      <td>02:59</td>\n",
       "    </tr>\n",
       "  </tbody>\n",
       "</table>"
      ],
      "text/plain": [
       "<IPython.core.display.HTML object>"
      ]
     },
     "metadata": {},
     "output_type": "display_data"
    }
   ],
   "source": [
    "learn.freeze_to(-2)\n",
    "learn.fit_one_cycle(1, slice(1e-2/(2**6),1e-2),moms=(0.8,0.7))"
   ]
  },
  {
   "cell_type": "code",
   "execution_count": 32,
   "metadata": {},
   "outputs": [],
   "source": [
    "learn.save('second')"
   ]
  },
  {
   "cell_type": "code",
   "execution_count": 33,
   "metadata": {},
   "outputs": [
    {
     "data": {
      "text/plain": [
       "RNNLearner(data=TextClasDataBunch;\n",
       "\n",
       "Train: LabelList (25000 items)\n",
       "x: TextList\n",
       "xxbos xxmaj chances are if i watched this again i might get physically sick , the film is so annoying xxrep 5 . unless you believe in psychics , re - incarnation and the other xxunk pocus which this promotes big - time . xxmaj the \" re - cycling of souls , \" they call it here . xxmaj puh - leeze . \n",
       " \n",
       "  xxmaj this story has been done several times before with such films as \" xxmaj heaven xxmaj can xxmaj wait . \" xxmaj it 's also been done a lot better . xxmaj too bad they had to waste the talents of xxmaj robert xxmaj downey xxmaj jr. , xxmaj cybill xxmaj shepherd , xxmaj ryan o'neal and xxmaj mary xxmaj stuart xxmaj masterson . \n",
       " \n",
       "  xxmaj at least it 's a pretty tame film , language - wise . xxmaj that 's about the only redeeming quality of this movie .,xxbos i saw this movie once a long time ago , and i have no desire to ever see it again . \n",
       " \n",
       "  xxmaj this movie is about xxmaj preston xxmaj waters , a hard - lucked preteen , who always seems to be overlooked by his family and who always seems to be short on cash . xxmaj all this changes when a bank robber runs over xxmaj preston 's bike and passes him a blank check as compensation . xxmaj preston uses the check to withdraw $ 1 million from the bank ( ironically , the money belongs to the bank robber who gave him the check ) . xxmaj preston then buys a mansion and says that he 's working as the assistant of a mysterious and wealthy xxunk named xxmaj mr. xxmaj macintosh ( named after his computer ) . xxmaj after that , he just goes crazy with the money . \n",
       " \n",
       "  xxmaj on paper , this sounds like a great idea . xxmaj however , on screen , it is one of the xxunk movies i 've ever seen . xxmaj for one thing , it 's too unbelievable . i know some parts of the movie were meant to be incredible , but i draw the line at a twelve - year - old boy going out with a thirty - year - old woman , and being put in charge of a imaginary person 's small fortune . xxmaj also , this was a shallow movie with weak acting , a predictable plot line and characters who are less than memorable . xxmaj the characters were either cheesy , over the top , annoying , or underdeveloped . xxmaj but \" xxmaj juice \" was a funny character . \n",
       " \n",
       "  xxmaj if you 're looking for a good movie to watch with your family , skip this one .,xxbos xxmaj storyline : xxmaj the film spanning xxunk hours covers in adequate details the happenings at the xxmaj kargil sector near the xxup loc in 1999 when the xxmaj pakistani xxunk had crossed the xxup loc and had entered deep into the xxmaj indian territory and the xxmaj indian xxmaj retaliation . xxmaj to know more about the story , i would suggest readers to read the news - items pertaining to xxmaj kargil . \n",
       " \n",
       "  xxmaj comment : xxmaj if one is looking for a formula story in this movie , then one can be sure that it is absent . xxup loc is a story of xxmaj pure sacrifice , patriotism , courage and lots and lots of bullets and xxmaj blood . xxmaj the movie hall where i saw this film was full of whistles and cheers when the xxmaj film shows xxmaj indian xxmaj bravery . xxmaj movie audience seemed similar to xxmaj audiences like in an xxmaj india vs xxmaj pak cricket match . \n",
       " \n",
       "  xxmaj watch the movie as a tribute to the xxmaj army 's sacrifice and for the characterization of the real - life war heroes ( 4 xxup pvc honoured heroes ) who have sacrificed their lives so that we could see this day . xxmaj the movie has made a brilliant portrayal of the xxmaj army who have battled all odds in rough weather conditions . xxmaj the film 's negatives are that it is too stretched and the songs are extremely boring .,xxbos xxmaj first , xxup ifc runs xxmaj town and xxmaj country , and now this . xxmaj the difference between that stinker and this xxmaj pink xxmaj panther rip - off is that xxmaj town and xxmaj country was watchable . xxmaj this is n't . \n",
       " \n",
       "  i can only surmise that the cast signed up for this so they could goof off in xxmaj europe on somebody else 's dime . xxmaj belushi is especially irritating . xxmaj his scene with xxmaj candy ( doing a z - grade xxmaj dom deluise ) was torture . xxmaj speaking of torture , five minutes of the talentless xxmaj shepherd , and i bet the prisoners at xxmaj gitmo would crack like walnuts ! \n",
       " \n",
       "  xxmaj the real \" xxmaj crime \" ( besides this being green - lighted ) is xxmaj shepherd 's character : a mousy wife who takes a xxmaj monte xxmaj carlo casino for a half - million bucks ! xxmaj if you buy that , i have some xxunk property in xxmaj arizona you might be interested in !,xxbos i simply ca nt understand why all these relics from the xxmaj ceausescu era refuse to let go . xxmaj one can see clearly how frustrated they were during the commie censorship that forbade them so many things to show in their movies , and now they imagine its dunno what big deal of artsy - fartsy freedom so fill the screen with people defecating , urinating , vomiting , swearing , and any other kinds of hideousness imaginable . xxup this xxup is xxup not xxup cinema , xxup friends xxup and xxup neighbors ! xxmaj this is simply visual perversion . xxmaj forget about xxmaj bunuels xxmaj chien xxmaj andalou , about xxmaj david xxmaj lynch , about xxmaj forman and neorealism and other movie makers who were able to work with an aesthetics of ugliness . xxup those people were mastering their jobs - well , you xxmaj do n't ! xxmaj do us a favor , all you xxmaj xxunk and xxmaj xxunk and xxmaj xxunk and xxmaj xxunk and xxmaj xxunk and xxmaj xxunk and other obsolete old - timers , and leave us alone ! xxmaj its bit time to see some xxmaj romanian xxup movies on screen , enough with your immature xxunk ! xxmaj you are not directors , you are xxup illiterate ! ! !\n",
       "y: CategoryList\n",
       "neg,neg,neg,neg,neg\n",
       "Path: /tmp/.fastai/data/imdb;\n",
       "\n",
       "Valid: LabelList (25000 items)\n",
       "x: TextList\n",
       "xxbos xxmaj every movie i have xxunk because xxmaj leonard xxmaj maltin praised it to the skies has blown chunks ! xxmaj every single one ! xxmaj when will i ever learn ? \n",
       " \n",
       "  xxmaj evie is a raving xxmaj old xxmaj bag who thinks nothing of saying she 's dying of breast cancer to get her way ! xxmaj laura is an insufferable xxmaj medusa filled with xxmaj the xxmaj holy xxmaj spirit ( and her hubby 's protégé ) ! xxmaj caught between these harpies is xxmaj medusa 's dumb - as - a - rock boy who has been pressed into weed - pulling servitude by xxmaj the xxmaj old xxmaj bag ! \n",
       " \n",
       "  xxmaj as i said , when will i ever learn ? \n",
       " \n",
       "  i was temporarily lifted out of my malaise when xxmaj the xxmaj old xxmaj bag stuck her head in a sink , but , unfortunately , she did not die . i was temporarily lifted out of my malaise again when xxmaj medusa got mowed down , but , unfortunately , she did not die . xxmaj it should be a capital offense to torture audiences like this ! \n",
       " \n",
       "  xxmaj without xxmaj harry xxmaj potter to kick him around , xxmaj rupert xxmaj grint is just a pair of big blue eyes that practically bulge out of its sockets . xxmaj julie xxmaj walters 's scenery - chewing ( especially the scene when she \" plays \" xxmaj god ) is even more shameless than her character . \n",
       " \n",
       "  xxmaj at least this xxmaj harold bangs some bimbo instead of xxmaj maude . xxmaj for that , i am truly grateful . xxmaj and if you 're reading this xxmaj mr. xxmaj maltin , you owe me $ 3.99 !,xxbos xxmaj cyclone is a piece of dreck with little redeeming value , even on the so bad its entertaining front . a friend of mine took the tape from an overflowing xxmaj st. xxmaj vincent xxunk clothes bin . xxmaj okay , that may be a little bit dodgy but it was meant to be a clothes bin , not a crappy old xxup vhs bin , something the less fortunate members of our society do n't really need to make their lives better . xxmaj it could be considered a mercy . xxmaj watching a movie like xxmaj cyclone would really only add to their problems . xxmaj anyway the basic premise of a woman with a super - powerful motorcycle that it armed to the teeth with rockets and lasers is n't even properly exploited . xxmaj the two ' high speed ' chase sequences involve vehicles travelling at less than hair raising speeds of around 40 xxup xxunk and a super - fast motorcycle that is in danger of being overtaken by a crappy old station wagon is not that awe inspiring when you get down to it . xxmaj there is only one scene where the bikes goofy weaponry is used , at the film 's climax , and it is laughably ineffectual , or just laughable , when it is . xxmaj this includes laser beams that look like they should be coming out of the hands of an evil wizard in a cheesy eighties sword and sorcery that produced large bursts of flame which seem to have no noticeable effect on their targets even when they hit directly . xxmaj the rest of the movie is just tedious hard to watch filler . xxmaj lots of bad actors , yes even xxmaj combs and xxmaj landau suck in this , most of whom seem like they have been lifted from the set of a porno movie stand around exchanging really bad dialogue in a desperate attempt to pus forward the barely coherent plot . xxmaj there are a few badly staged fight sequences and some excruciatingly unfunny comic relief scenes with some cops and the owner of the motor cycle repair shop . xxmaj comedy of the sub xxmaj benny xxmaj hill horny old man ca n't stop staring at the female leads chest variety . xxmaj basically the ' money ' scenes involving the bike actually doing stuff are few and lame and the rest is clunky filler material . xxmaj skip it .,xxbos xxmaj it 's really just terrible . xxmaj quaid overacts more than xxmaj shatner . xxmaj the part where xxmaj elvis walks in and says \" xxmaj you can have it all \" just kills anything that might have been good in this movie that 's bad enough as it is . xxmaj drug use was completely snow coated , the only thing that had anything to do with his life was the bit about him wedding his cousin . xxmaj quaid also looks nothing like xxmaj lewis and has dark roots and eyebrows . i wish this could be re - made in the future with someone who does n't try so hard . a bigger budget would n't hurt and maybe more about his actual life . i was very , very disappointed in xxmaj quaid . xxmaj do n't watch this movie or you will be too .,xxbos xxmaj after three hours in the xxmaj cinema hall , the strongest impression garnered was that their is something amiss . xxmaj what was clear was that the xxmaj directors forgot to direct , the actors to act and most importantly the script writer to write . xxmaj xxunk shouted without reason and made one cringe . xxmaj the script moved on and on with lots of avoidable twists and turns ending in now , too familiar xxmaj priyadarshan theory of xxmaj converging actors at a single point . xxmaj this theory worked well in xxmaj hera - xxmaj pheri and xxmaj hungama but somehow managed to irritate this time , so did the habit of every actor 's incapacity to answer asked of them directly . xxmaj simplest questions such as \" what is your name would be repeated n times \" . \n",
       " \n",
       "  xxmaj finally what was amiss was that the director forgot that his audience have something called intelligence .,xxbos xxmaj the film opens with a cult leader attempting to resurrect a dead member with his followers chanting for his rebirth as the sun strikes upon them in the desert . xxunk xxmaj xxunk wholeheartedly in his power , and gets so worked up that he collapses with what appeared to be a heart attack . xxmaj unable to keep him alive , all those involved , doctors and nurses , are sentenced for attack with xxmaj reanhauer 's demonic spirit invading the curvaceous body of nurse xxmaj xxunk .. big - chested xxmaj jill xxmaj xxunk each one using her as a tool of vengeance . xxmaj forced against her will , with no memory of inflicting such harm , xxmaj sherri 's host body murders selected victims . xxmaj fortunately , xxmaj sherri 's fellow co - worker , nurse xxunk xxmaj xxunk a rather blossoming romance with a blinded patient , xxmaj marcus xxunk xxmaj xxunk ) , once a star football player , whose mother was a practitioner of voodoo . xxmaj through xxmaj marcus ' knowledge , passed down from mom , xxmaj tara finds out about possession and how to possibly save xxmaj sherri before she murders everyone unknowingly . xxmaj meanwhile , xxmaj sherri 's lover , xxmaj dr. xxmaj peter xxunk xxmaj xxunk about her present condition and welfare . \n",
       " \n",
       "  xxmaj well , this was my first xxmaj al xxmaj adamson film and i must agree with his detractors that , just from this film alone , it seems he holds them together with paper clips and xxmaj elmer 's glue . xxmaj the animation with which we see the spirit take control of xxmaj sherri is beyond awful and rather laughable . a little soft - core nonsense as filler , some demonic possession thrown in the xxunk actually speaks in another voice when she 's possessed ) , with naughty nurse xxunk .. the three nurses focused on in the film all are quite sexually active and free - xxunk a little bit violence / gore . xxmaj the film is essentially shot in tiny rooms with dull dialogue from a rather mundane cast . xxmaj the sexual situations are n't that hard - core and xxmaj al often shoots them without revealing all that much . xxmaj the film looks embarrassingly cheap and there 's an absence of thrills , although the chilling xxunk .. which sounds like something from xxmaj dark xxmaj xxunk help a little bit . xxmaj jacobson and xxmaj mary xxmaj kay xxmaj xxunk .. as nurse xxmaj beth who seems to be a nymphomaniac if she 'll even screw a nutty patient , always complaining of illnesses he really does n't have , with enough chest hair to declare him a xxmaj xxunk bad looking , and xxmaj adamson 's story - line , although frail , is somewhat xxunk .. it seems he rarely directs films which are ) . xxmaj overall , the movie looks like it cost 5 bucks and xxmaj adamson just can not overcome the budgetary xxunk .. or , in my opinion , create an unpleasant enough atmosphere due to a sometimes plodding narrative and tedious scenes which do little for the story ) . xxmaj john f xxmaj xxunk has the role of the hospital 's psychiatrist who wants to commit xxmaj sherri , not believing the idea that she was xxunk constantly bickers with xxmaj peter over her . i watched the unrated \" lost \" version which i guess is the real version to watch of xxmaj nurse xxmaj sherri .\n",
       "y: CategoryList\n",
       "neg,neg,neg,neg,neg\n",
       "Path: /tmp/.fastai/data/imdb;\n",
       "\n",
       "Test: None, model=SequentialRNN(\n",
       "  (0): MultiBatchEncoder(\n",
       "    (module): AWD_LSTM(\n",
       "      (encoder): Embedding(49856, 400, padding_idx=1)\n",
       "      (encoder_dp): EmbeddingDropout(\n",
       "        (emb): Embedding(49856, 400, padding_idx=1)\n",
       "      )\n",
       "      (rnns): ModuleList(\n",
       "        (0): WeightDropout(\n",
       "          (module): LSTM(400, 1152, batch_first=True)\n",
       "        )\n",
       "        (1): WeightDropout(\n",
       "          (module): LSTM(1152, 1152, batch_first=True)\n",
       "        )\n",
       "        (2): WeightDropout(\n",
       "          (module): LSTM(1152, 400, batch_first=True)\n",
       "        )\n",
       "      )\n",
       "      (input_dp): RNNDropout()\n",
       "      (hidden_dps): ModuleList(\n",
       "        (0): RNNDropout()\n",
       "        (1): RNNDropout()\n",
       "        (2): RNNDropout()\n",
       "      )\n",
       "    )\n",
       "  )\n",
       "  (1): PoolingLinearClassifier(\n",
       "    (layers): Sequential(\n",
       "      (0): BatchNorm1d(1200, eps=1e-05, momentum=0.1, affine=True, track_running_stats=True)\n",
       "      (1): Dropout(p=0.2)\n",
       "      (2): Linear(in_features=1200, out_features=50, bias=True)\n",
       "      (3): ReLU(inplace)\n",
       "      (4): BatchNorm1d(50, eps=1e-05, momentum=0.1, affine=True, track_running_stats=True)\n",
       "      (5): Dropout(p=0.1)\n",
       "      (6): Linear(in_features=50, out_features=2, bias=True)\n",
       "    )\n",
       "  )\n",
       "), opt_func=functools.partial(<class 'torch.optim.adam.Adam'>, betas=(0.9, 0.99)), loss_func=FlattenedLoss of CrossEntropyLoss(), metrics=[<function accuracy at 0x7fa460efc9d8>], true_wd=True, bn_wd=True, wd=0.01, train_bn=True, path=PosixPath('/tmp/.fastai/data/imdb'), model_dir='models', callback_fns=[functools.partial(<class 'fastai.basic_train.Recorder'>, add_time=True, silent=False)], callbacks=[RNNTrainer\n",
       "learn: RNNLearner(data=TextClasDataBunch;\n",
       "\n",
       "Train: LabelList (25000 items)\n",
       "x: TextList\n",
       "xxbos xxmaj chances are if i watched this again i might get physically sick , the film is so annoying xxrep 5 . unless you believe in psychics , re - incarnation and the other xxunk pocus which this promotes big - time . xxmaj the \" re - cycling of souls , \" they call it here . xxmaj puh - leeze . \n",
       " \n",
       "  xxmaj this story has been done several times before with such films as \" xxmaj heaven xxmaj can xxmaj wait . \" xxmaj it 's also been done a lot better . xxmaj too bad they had to waste the talents of xxmaj robert xxmaj downey xxmaj jr. , xxmaj cybill xxmaj shepherd , xxmaj ryan o'neal and xxmaj mary xxmaj stuart xxmaj masterson . \n",
       " \n",
       "  xxmaj at least it 's a pretty tame film , language - wise . xxmaj that 's about the only redeeming quality of this movie .,xxbos i saw this movie once a long time ago , and i have no desire to ever see it again . \n",
       " \n",
       "  xxmaj this movie is about xxmaj preston xxmaj waters , a hard - lucked preteen , who always seems to be overlooked by his family and who always seems to be short on cash . xxmaj all this changes when a bank robber runs over xxmaj preston 's bike and passes him a blank check as compensation . xxmaj preston uses the check to withdraw $ 1 million from the bank ( ironically , the money belongs to the bank robber who gave him the check ) . xxmaj preston then buys a mansion and says that he 's working as the assistant of a mysterious and wealthy xxunk named xxmaj mr. xxmaj macintosh ( named after his computer ) . xxmaj after that , he just goes crazy with the money . \n",
       " \n",
       "  xxmaj on paper , this sounds like a great idea . xxmaj however , on screen , it is one of the xxunk movies i 've ever seen . xxmaj for one thing , it 's too unbelievable . i know some parts of the movie were meant to be incredible , but i draw the line at a twelve - year - old boy going out with a thirty - year - old woman , and being put in charge of a imaginary person 's small fortune . xxmaj also , this was a shallow movie with weak acting , a predictable plot line and characters who are less than memorable . xxmaj the characters were either cheesy , over the top , annoying , or underdeveloped . xxmaj but \" xxmaj juice \" was a funny character . \n",
       " \n",
       "  xxmaj if you 're looking for a good movie to watch with your family , skip this one .,xxbos xxmaj storyline : xxmaj the film spanning xxunk hours covers in adequate details the happenings at the xxmaj kargil sector near the xxup loc in 1999 when the xxmaj pakistani xxunk had crossed the xxup loc and had entered deep into the xxmaj indian territory and the xxmaj indian xxmaj retaliation . xxmaj to know more about the story , i would suggest readers to read the news - items pertaining to xxmaj kargil . \n",
       " \n",
       "  xxmaj comment : xxmaj if one is looking for a formula story in this movie , then one can be sure that it is absent . xxup loc is a story of xxmaj pure sacrifice , patriotism , courage and lots and lots of bullets and xxmaj blood . xxmaj the movie hall where i saw this film was full of whistles and cheers when the xxmaj film shows xxmaj indian xxmaj bravery . xxmaj movie audience seemed similar to xxmaj audiences like in an xxmaj india vs xxmaj pak cricket match . \n",
       " \n",
       "  xxmaj watch the movie as a tribute to the xxmaj army 's sacrifice and for the characterization of the real - life war heroes ( 4 xxup pvc honoured heroes ) who have sacrificed their lives so that we could see this day . xxmaj the movie has made a brilliant portrayal of the xxmaj army who have battled all odds in rough weather conditions . xxmaj the film 's negatives are that it is too stretched and the songs are extremely boring .,xxbos xxmaj first , xxup ifc runs xxmaj town and xxmaj country , and now this . xxmaj the difference between that stinker and this xxmaj pink xxmaj panther rip - off is that xxmaj town and xxmaj country was watchable . xxmaj this is n't . \n",
       " \n",
       "  i can only surmise that the cast signed up for this so they could goof off in xxmaj europe on somebody else 's dime . xxmaj belushi is especially irritating . xxmaj his scene with xxmaj candy ( doing a z - grade xxmaj dom deluise ) was torture . xxmaj speaking of torture , five minutes of the talentless xxmaj shepherd , and i bet the prisoners at xxmaj gitmo would crack like walnuts ! \n",
       " \n",
       "  xxmaj the real \" xxmaj crime \" ( besides this being green - lighted ) is xxmaj shepherd 's character : a mousy wife who takes a xxmaj monte xxmaj carlo casino for a half - million bucks ! xxmaj if you buy that , i have some xxunk property in xxmaj arizona you might be interested in !,xxbos i simply ca nt understand why all these relics from the xxmaj ceausescu era refuse to let go . xxmaj one can see clearly how frustrated they were during the commie censorship that forbade them so many things to show in their movies , and now they imagine its dunno what big deal of artsy - fartsy freedom so fill the screen with people defecating , urinating , vomiting , swearing , and any other kinds of hideousness imaginable . xxup this xxup is xxup not xxup cinema , xxup friends xxup and xxup neighbors ! xxmaj this is simply visual perversion . xxmaj forget about xxmaj bunuels xxmaj chien xxmaj andalou , about xxmaj david xxmaj lynch , about xxmaj forman and neorealism and other movie makers who were able to work with an aesthetics of ugliness . xxup those people were mastering their jobs - well , you xxmaj do n't ! xxmaj do us a favor , all you xxmaj xxunk and xxmaj xxunk and xxmaj xxunk and xxmaj xxunk and xxmaj xxunk and xxmaj xxunk and other obsolete old - timers , and leave us alone ! xxmaj its bit time to see some xxmaj romanian xxup movies on screen , enough with your immature xxunk ! xxmaj you are not directors , you are xxup illiterate ! ! !\n",
       "y: CategoryList\n",
       "neg,neg,neg,neg,neg\n",
       "Path: /tmp/.fastai/data/imdb;\n",
       "\n",
       "Valid: LabelList (25000 items)\n",
       "x: TextList\n",
       "xxbos xxmaj every movie i have xxunk because xxmaj leonard xxmaj maltin praised it to the skies has blown chunks ! xxmaj every single one ! xxmaj when will i ever learn ? \n",
       " \n",
       "  xxmaj evie is a raving xxmaj old xxmaj bag who thinks nothing of saying she 's dying of breast cancer to get her way ! xxmaj laura is an insufferable xxmaj medusa filled with xxmaj the xxmaj holy xxmaj spirit ( and her hubby 's protégé ) ! xxmaj caught between these harpies is xxmaj medusa 's dumb - as - a - rock boy who has been pressed into weed - pulling servitude by xxmaj the xxmaj old xxmaj bag ! \n",
       " \n",
       "  xxmaj as i said , when will i ever learn ? \n",
       " \n",
       "  i was temporarily lifted out of my malaise when xxmaj the xxmaj old xxmaj bag stuck her head in a sink , but , unfortunately , she did not die . i was temporarily lifted out of my malaise again when xxmaj medusa got mowed down , but , unfortunately , she did not die . xxmaj it should be a capital offense to torture audiences like this ! \n",
       " \n",
       "  xxmaj without xxmaj harry xxmaj potter to kick him around , xxmaj rupert xxmaj grint is just a pair of big blue eyes that practically bulge out of its sockets . xxmaj julie xxmaj walters 's scenery - chewing ( especially the scene when she \" plays \" xxmaj god ) is even more shameless than her character . \n",
       " \n",
       "  xxmaj at least this xxmaj harold bangs some bimbo instead of xxmaj maude . xxmaj for that , i am truly grateful . xxmaj and if you 're reading this xxmaj mr. xxmaj maltin , you owe me $ 3.99 !,xxbos xxmaj cyclone is a piece of dreck with little redeeming value , even on the so bad its entertaining front . a friend of mine took the tape from an overflowing xxmaj st. xxmaj vincent xxunk clothes bin . xxmaj okay , that may be a little bit dodgy but it was meant to be a clothes bin , not a crappy old xxup vhs bin , something the less fortunate members of our society do n't really need to make their lives better . xxmaj it could be considered a mercy . xxmaj watching a movie like xxmaj cyclone would really only add to their problems . xxmaj anyway the basic premise of a woman with a super - powerful motorcycle that it armed to the teeth with rockets and lasers is n't even properly exploited . xxmaj the two ' high speed ' chase sequences involve vehicles travelling at less than hair raising speeds of around 40 xxup xxunk and a super - fast motorcycle that is in danger of being overtaken by a crappy old station wagon is not that awe inspiring when you get down to it . xxmaj there is only one scene where the bikes goofy weaponry is used , at the film 's climax , and it is laughably ineffectual , or just laughable , when it is . xxmaj this includes laser beams that look like they should be coming out of the hands of an evil wizard in a cheesy eighties sword and sorcery that produced large bursts of flame which seem to have no noticeable effect on their targets even when they hit directly . xxmaj the rest of the movie is just tedious hard to watch filler . xxmaj lots of bad actors , yes even xxmaj combs and xxmaj landau suck in this , most of whom seem like they have been lifted from the set of a porno movie stand around exchanging really bad dialogue in a desperate attempt to pus forward the barely coherent plot . xxmaj there are a few badly staged fight sequences and some excruciatingly unfunny comic relief scenes with some cops and the owner of the motor cycle repair shop . xxmaj comedy of the sub xxmaj benny xxmaj hill horny old man ca n't stop staring at the female leads chest variety . xxmaj basically the ' money ' scenes involving the bike actually doing stuff are few and lame and the rest is clunky filler material . xxmaj skip it .,xxbos xxmaj it 's really just terrible . xxmaj quaid overacts more than xxmaj shatner . xxmaj the part where xxmaj elvis walks in and says \" xxmaj you can have it all \" just kills anything that might have been good in this movie that 's bad enough as it is . xxmaj drug use was completely snow coated , the only thing that had anything to do with his life was the bit about him wedding his cousin . xxmaj quaid also looks nothing like xxmaj lewis and has dark roots and eyebrows . i wish this could be re - made in the future with someone who does n't try so hard . a bigger budget would n't hurt and maybe more about his actual life . i was very , very disappointed in xxmaj quaid . xxmaj do n't watch this movie or you will be too .,xxbos xxmaj after three hours in the xxmaj cinema hall , the strongest impression garnered was that their is something amiss . xxmaj what was clear was that the xxmaj directors forgot to direct , the actors to act and most importantly the script writer to write . xxmaj xxunk shouted without reason and made one cringe . xxmaj the script moved on and on with lots of avoidable twists and turns ending in now , too familiar xxmaj priyadarshan theory of xxmaj converging actors at a single point . xxmaj this theory worked well in xxmaj hera - xxmaj pheri and xxmaj hungama but somehow managed to irritate this time , so did the habit of every actor 's incapacity to answer asked of them directly . xxmaj simplest questions such as \" what is your name would be repeated n times \" . \n",
       " \n",
       "  xxmaj finally what was amiss was that the director forgot that his audience have something called intelligence .,xxbos xxmaj the film opens with a cult leader attempting to resurrect a dead member with his followers chanting for his rebirth as the sun strikes upon them in the desert . xxunk xxmaj xxunk wholeheartedly in his power , and gets so worked up that he collapses with what appeared to be a heart attack . xxmaj unable to keep him alive , all those involved , doctors and nurses , are sentenced for attack with xxmaj reanhauer 's demonic spirit invading the curvaceous body of nurse xxmaj xxunk .. big - chested xxmaj jill xxmaj xxunk each one using her as a tool of vengeance . xxmaj forced against her will , with no memory of inflicting such harm , xxmaj sherri 's host body murders selected victims . xxmaj fortunately , xxmaj sherri 's fellow co - worker , nurse xxunk xxmaj xxunk a rather blossoming romance with a blinded patient , xxmaj marcus xxunk xxmaj xxunk ) , once a star football player , whose mother was a practitioner of voodoo . xxmaj through xxmaj marcus ' knowledge , passed down from mom , xxmaj tara finds out about possession and how to possibly save xxmaj sherri before she murders everyone unknowingly . xxmaj meanwhile , xxmaj sherri 's lover , xxmaj dr. xxmaj peter xxunk xxmaj xxunk about her present condition and welfare . \n",
       " \n",
       "  xxmaj well , this was my first xxmaj al xxmaj adamson film and i must agree with his detractors that , just from this film alone , it seems he holds them together with paper clips and xxmaj elmer 's glue . xxmaj the animation with which we see the spirit take control of xxmaj sherri is beyond awful and rather laughable . a little soft - core nonsense as filler , some demonic possession thrown in the xxunk actually speaks in another voice when she 's possessed ) , with naughty nurse xxunk .. the three nurses focused on in the film all are quite sexually active and free - xxunk a little bit violence / gore . xxmaj the film is essentially shot in tiny rooms with dull dialogue from a rather mundane cast . xxmaj the sexual situations are n't that hard - core and xxmaj al often shoots them without revealing all that much . xxmaj the film looks embarrassingly cheap and there 's an absence of thrills , although the chilling xxunk .. which sounds like something from xxmaj dark xxmaj xxunk help a little bit . xxmaj jacobson and xxmaj mary xxmaj kay xxmaj xxunk .. as nurse xxmaj beth who seems to be a nymphomaniac if she 'll even screw a nutty patient , always complaining of illnesses he really does n't have , with enough chest hair to declare him a xxmaj xxunk bad looking , and xxmaj adamson 's story - line , although frail , is somewhat xxunk .. it seems he rarely directs films which are ) . xxmaj overall , the movie looks like it cost 5 bucks and xxmaj adamson just can not overcome the budgetary xxunk .. or , in my opinion , create an unpleasant enough atmosphere due to a sometimes plodding narrative and tedious scenes which do little for the story ) . xxmaj john f xxmaj xxunk has the role of the hospital 's psychiatrist who wants to commit xxmaj sherri , not believing the idea that she was xxunk constantly bickers with xxmaj peter over her . i watched the unrated \" lost \" version which i guess is the real version to watch of xxmaj nurse xxmaj sherri .\n",
       "y: CategoryList\n",
       "neg,neg,neg,neg,neg\n",
       "Path: /tmp/.fastai/data/imdb;\n",
       "\n",
       "Test: None, model=SequentialRNN(\n",
       "  (0): MultiBatchEncoder(\n",
       "    (module): AWD_LSTM(\n",
       "      (encoder): Embedding(49856, 400, padding_idx=1)\n",
       "      (encoder_dp): EmbeddingDropout(\n",
       "        (emb): Embedding(49856, 400, padding_idx=1)\n",
       "      )\n",
       "      (rnns): ModuleList(\n",
       "        (0): WeightDropout(\n",
       "          (module): LSTM(400, 1152, batch_first=True)\n",
       "        )\n",
       "        (1): WeightDropout(\n",
       "          (module): LSTM(1152, 1152, batch_first=True)\n",
       "        )\n",
       "        (2): WeightDropout(\n",
       "          (module): LSTM(1152, 400, batch_first=True)\n",
       "        )\n",
       "      )\n",
       "      (input_dp): RNNDropout()\n",
       "      (hidden_dps): ModuleList(\n",
       "        (0): RNNDropout()\n",
       "        (1): RNNDropout()\n",
       "        (2): RNNDropout()\n",
       "      )\n",
       "    )\n",
       "  )\n",
       "  (1): PoolingLinearClassifier(\n",
       "    (layers): Sequential(\n",
       "      (0): BatchNorm1d(1200, eps=1e-05, momentum=0.1, affine=True, track_running_stats=True)\n",
       "      (1): Dropout(p=0.2)\n",
       "      (2): Linear(in_features=1200, out_features=50, bias=True)\n",
       "      (3): ReLU(inplace)\n",
       "      (4): BatchNorm1d(50, eps=1e-05, momentum=0.1, affine=True, track_running_stats=True)\n",
       "      (5): Dropout(p=0.1)\n",
       "      (6): Linear(in_features=50, out_features=2, bias=True)\n",
       "    )\n",
       "  )\n",
       "), opt_func=functools.partial(<class 'torch.optim.adam.Adam'>, betas=(0.9, 0.99)), loss_func=FlattenedLoss of CrossEntropyLoss(), metrics=[<function accuracy at 0x7fa460efc9d8>], true_wd=True, bn_wd=True, wd=0.01, train_bn=True, path=PosixPath('/tmp/.fastai/data/imdb'), model_dir='models', callback_fns=[functools.partial(<class 'fastai.basic_train.Recorder'>, add_time=True, silent=False)], callbacks=[...], layer_groups=[Sequential(\n",
       "  (0): Embedding(49856, 400, padding_idx=1)\n",
       "  (1): EmbeddingDropout(\n",
       "    (emb): Embedding(49856, 400, padding_idx=1)\n",
       "  )\n",
       "), Sequential(\n",
       "  (0): WeightDropout(\n",
       "    (module): LSTM(400, 1152, batch_first=True)\n",
       "  )\n",
       "  (1): RNNDropout()\n",
       "), Sequential(\n",
       "  (0): WeightDropout(\n",
       "    (module): LSTM(1152, 1152, batch_first=True)\n",
       "  )\n",
       "  (1): RNNDropout()\n",
       "), Sequential(\n",
       "  (0): WeightDropout(\n",
       "    (module): LSTM(1152, 400, batch_first=True)\n",
       "  )\n",
       "  (1): RNNDropout()\n",
       "), Sequential(\n",
       "  (0): PoolingLinearClassifier(\n",
       "    (layers): Sequential(\n",
       "      (0): BatchNorm1d(1200, eps=1e-05, momentum=0.1, affine=True, track_running_stats=True)\n",
       "      (1): Dropout(p=0.2)\n",
       "      (2): Linear(in_features=1200, out_features=50, bias=True)\n",
       "      (3): ReLU(inplace)\n",
       "      (4): BatchNorm1d(50, eps=1e-05, momentum=0.1, affine=True, track_running_stats=True)\n",
       "      (5): Dropout(p=0.1)\n",
       "      (6): Linear(in_features=50, out_features=2, bias=True)\n",
       "    )\n",
       "  )\n",
       ")], add_time=True, silent=None)\n",
       "alpha: 2.0\n",
       "beta: 1.0], layer_groups=[Sequential(\n",
       "  (0): Embedding(49856, 400, padding_idx=1)\n",
       "  (1): EmbeddingDropout(\n",
       "    (emb): Embedding(49856, 400, padding_idx=1)\n",
       "  )\n",
       "), Sequential(\n",
       "  (0): WeightDropout(\n",
       "    (module): LSTM(400, 1152, batch_first=True)\n",
       "  )\n",
       "  (1): RNNDropout()\n",
       "), Sequential(\n",
       "  (0): WeightDropout(\n",
       "    (module): LSTM(1152, 1152, batch_first=True)\n",
       "  )\n",
       "  (1): RNNDropout()\n",
       "), Sequential(\n",
       "  (0): WeightDropout(\n",
       "    (module): LSTM(1152, 400, batch_first=True)\n",
       "  )\n",
       "  (1): RNNDropout()\n",
       "), Sequential(\n",
       "  (0): PoolingLinearClassifier(\n",
       "    (layers): Sequential(\n",
       "      (0): BatchNorm1d(1200, eps=1e-05, momentum=0.1, affine=True, track_running_stats=True)\n",
       "      (1): Dropout(p=0.2)\n",
       "      (2): Linear(in_features=1200, out_features=50, bias=True)\n",
       "      (3): ReLU(inplace)\n",
       "      (4): BatchNorm1d(50, eps=1e-05, momentum=0.1, affine=True, track_running_stats=True)\n",
       "      (5): Dropout(p=0.1)\n",
       "      (6): Linear(in_features=50, out_features=2, bias=True)\n",
       "    )\n",
       "  )\n",
       ")], add_time=True, silent=None)"
      ]
     },
     "execution_count": 33,
     "metadata": {},
     "output_type": "execute_result"
    }
   ],
   "source": [
    "learn.load('second')"
   ]
  },
  {
   "cell_type": "code",
   "execution_count": 34,
   "metadata": {},
   "outputs": [
    {
     "data": {
      "text/html": [
       "<table border=\"1\" class=\"dataframe\">\n",
       "  <thead>\n",
       "    <tr style=\"text-align: left;\">\n",
       "      <th>epoch</th>\n",
       "      <th>train_loss</th>\n",
       "      <th>valid_loss</th>\n",
       "      <th>accuracy</th>\n",
       "      <th>time</th>\n",
       "    </tr>\n",
       "  </thead>\n",
       "  <tbody>\n",
       "    <tr>\n",
       "      <td>0</td>\n",
       "      <td>0.602485</td>\n",
       "      <td>0.577515</td>\n",
       "      <td>0.718120</td>\n",
       "      <td>03:55</td>\n",
       "    </tr>\n",
       "  </tbody>\n",
       "</table>"
      ],
      "text/plain": [
       "<IPython.core.display.HTML object>"
      ]
     },
     "metadata": {},
     "output_type": "display_data"
    }
   ],
   "source": [
    "learn.freeze_to(-3)\n",
    "learn.fit_one_cycle(1, slice(5e-3/(2.6**4),5e-3),moms=(0.8,0.7))"
   ]
  },
  {
   "cell_type": "code",
   "execution_count": 35,
   "metadata": {},
   "outputs": [],
   "source": [
    "learn.save('third')"
   ]
  },
  {
   "cell_type": "code",
   "execution_count": 36,
   "metadata": {},
   "outputs": [
    {
     "data": {
      "text/plain": [
       "RNNLearner(data=TextClasDataBunch;\n",
       "\n",
       "Train: LabelList (25000 items)\n",
       "x: TextList\n",
       "xxbos xxmaj chances are if i watched this again i might get physically sick , the film is so annoying xxrep 5 . unless you believe in psychics , re - incarnation and the other xxunk pocus which this promotes big - time . xxmaj the \" re - cycling of souls , \" they call it here . xxmaj puh - leeze . \n",
       " \n",
       "  xxmaj this story has been done several times before with such films as \" xxmaj heaven xxmaj can xxmaj wait . \" xxmaj it 's also been done a lot better . xxmaj too bad they had to waste the talents of xxmaj robert xxmaj downey xxmaj jr. , xxmaj cybill xxmaj shepherd , xxmaj ryan o'neal and xxmaj mary xxmaj stuart xxmaj masterson . \n",
       " \n",
       "  xxmaj at least it 's a pretty tame film , language - wise . xxmaj that 's about the only redeeming quality of this movie .,xxbos i saw this movie once a long time ago , and i have no desire to ever see it again . \n",
       " \n",
       "  xxmaj this movie is about xxmaj preston xxmaj waters , a hard - lucked preteen , who always seems to be overlooked by his family and who always seems to be short on cash . xxmaj all this changes when a bank robber runs over xxmaj preston 's bike and passes him a blank check as compensation . xxmaj preston uses the check to withdraw $ 1 million from the bank ( ironically , the money belongs to the bank robber who gave him the check ) . xxmaj preston then buys a mansion and says that he 's working as the assistant of a mysterious and wealthy xxunk named xxmaj mr. xxmaj macintosh ( named after his computer ) . xxmaj after that , he just goes crazy with the money . \n",
       " \n",
       "  xxmaj on paper , this sounds like a great idea . xxmaj however , on screen , it is one of the xxunk movies i 've ever seen . xxmaj for one thing , it 's too unbelievable . i know some parts of the movie were meant to be incredible , but i draw the line at a twelve - year - old boy going out with a thirty - year - old woman , and being put in charge of a imaginary person 's small fortune . xxmaj also , this was a shallow movie with weak acting , a predictable plot line and characters who are less than memorable . xxmaj the characters were either cheesy , over the top , annoying , or underdeveloped . xxmaj but \" xxmaj juice \" was a funny character . \n",
       " \n",
       "  xxmaj if you 're looking for a good movie to watch with your family , skip this one .,xxbos xxmaj storyline : xxmaj the film spanning xxunk hours covers in adequate details the happenings at the xxmaj kargil sector near the xxup loc in 1999 when the xxmaj pakistani xxunk had crossed the xxup loc and had entered deep into the xxmaj indian territory and the xxmaj indian xxmaj retaliation . xxmaj to know more about the story , i would suggest readers to read the news - items pertaining to xxmaj kargil . \n",
       " \n",
       "  xxmaj comment : xxmaj if one is looking for a formula story in this movie , then one can be sure that it is absent . xxup loc is a story of xxmaj pure sacrifice , patriotism , courage and lots and lots of bullets and xxmaj blood . xxmaj the movie hall where i saw this film was full of whistles and cheers when the xxmaj film shows xxmaj indian xxmaj bravery . xxmaj movie audience seemed similar to xxmaj audiences like in an xxmaj india vs xxmaj pak cricket match . \n",
       " \n",
       "  xxmaj watch the movie as a tribute to the xxmaj army 's sacrifice and for the characterization of the real - life war heroes ( 4 xxup pvc honoured heroes ) who have sacrificed their lives so that we could see this day . xxmaj the movie has made a brilliant portrayal of the xxmaj army who have battled all odds in rough weather conditions . xxmaj the film 's negatives are that it is too stretched and the songs are extremely boring .,xxbos xxmaj first , xxup ifc runs xxmaj town and xxmaj country , and now this . xxmaj the difference between that stinker and this xxmaj pink xxmaj panther rip - off is that xxmaj town and xxmaj country was watchable . xxmaj this is n't . \n",
       " \n",
       "  i can only surmise that the cast signed up for this so they could goof off in xxmaj europe on somebody else 's dime . xxmaj belushi is especially irritating . xxmaj his scene with xxmaj candy ( doing a z - grade xxmaj dom deluise ) was torture . xxmaj speaking of torture , five minutes of the talentless xxmaj shepherd , and i bet the prisoners at xxmaj gitmo would crack like walnuts ! \n",
       " \n",
       "  xxmaj the real \" xxmaj crime \" ( besides this being green - lighted ) is xxmaj shepherd 's character : a mousy wife who takes a xxmaj monte xxmaj carlo casino for a half - million bucks ! xxmaj if you buy that , i have some xxunk property in xxmaj arizona you might be interested in !,xxbos i simply ca nt understand why all these relics from the xxmaj ceausescu era refuse to let go . xxmaj one can see clearly how frustrated they were during the commie censorship that forbade them so many things to show in their movies , and now they imagine its dunno what big deal of artsy - fartsy freedom so fill the screen with people defecating , urinating , vomiting , swearing , and any other kinds of hideousness imaginable . xxup this xxup is xxup not xxup cinema , xxup friends xxup and xxup neighbors ! xxmaj this is simply visual perversion . xxmaj forget about xxmaj bunuels xxmaj chien xxmaj andalou , about xxmaj david xxmaj lynch , about xxmaj forman and neorealism and other movie makers who were able to work with an aesthetics of ugliness . xxup those people were mastering their jobs - well , you xxmaj do n't ! xxmaj do us a favor , all you xxmaj xxunk and xxmaj xxunk and xxmaj xxunk and xxmaj xxunk and xxmaj xxunk and xxmaj xxunk and other obsolete old - timers , and leave us alone ! xxmaj its bit time to see some xxmaj romanian xxup movies on screen , enough with your immature xxunk ! xxmaj you are not directors , you are xxup illiterate ! ! !\n",
       "y: CategoryList\n",
       "neg,neg,neg,neg,neg\n",
       "Path: /tmp/.fastai/data/imdb;\n",
       "\n",
       "Valid: LabelList (25000 items)\n",
       "x: TextList\n",
       "xxbos xxmaj every movie i have xxunk because xxmaj leonard xxmaj maltin praised it to the skies has blown chunks ! xxmaj every single one ! xxmaj when will i ever learn ? \n",
       " \n",
       "  xxmaj evie is a raving xxmaj old xxmaj bag who thinks nothing of saying she 's dying of breast cancer to get her way ! xxmaj laura is an insufferable xxmaj medusa filled with xxmaj the xxmaj holy xxmaj spirit ( and her hubby 's protégé ) ! xxmaj caught between these harpies is xxmaj medusa 's dumb - as - a - rock boy who has been pressed into weed - pulling servitude by xxmaj the xxmaj old xxmaj bag ! \n",
       " \n",
       "  xxmaj as i said , when will i ever learn ? \n",
       " \n",
       "  i was temporarily lifted out of my malaise when xxmaj the xxmaj old xxmaj bag stuck her head in a sink , but , unfortunately , she did not die . i was temporarily lifted out of my malaise again when xxmaj medusa got mowed down , but , unfortunately , she did not die . xxmaj it should be a capital offense to torture audiences like this ! \n",
       " \n",
       "  xxmaj without xxmaj harry xxmaj potter to kick him around , xxmaj rupert xxmaj grint is just a pair of big blue eyes that practically bulge out of its sockets . xxmaj julie xxmaj walters 's scenery - chewing ( especially the scene when she \" plays \" xxmaj god ) is even more shameless than her character . \n",
       " \n",
       "  xxmaj at least this xxmaj harold bangs some bimbo instead of xxmaj maude . xxmaj for that , i am truly grateful . xxmaj and if you 're reading this xxmaj mr. xxmaj maltin , you owe me $ 3.99 !,xxbos xxmaj cyclone is a piece of dreck with little redeeming value , even on the so bad its entertaining front . a friend of mine took the tape from an overflowing xxmaj st. xxmaj vincent xxunk clothes bin . xxmaj okay , that may be a little bit dodgy but it was meant to be a clothes bin , not a crappy old xxup vhs bin , something the less fortunate members of our society do n't really need to make their lives better . xxmaj it could be considered a mercy . xxmaj watching a movie like xxmaj cyclone would really only add to their problems . xxmaj anyway the basic premise of a woman with a super - powerful motorcycle that it armed to the teeth with rockets and lasers is n't even properly exploited . xxmaj the two ' high speed ' chase sequences involve vehicles travelling at less than hair raising speeds of around 40 xxup xxunk and a super - fast motorcycle that is in danger of being overtaken by a crappy old station wagon is not that awe inspiring when you get down to it . xxmaj there is only one scene where the bikes goofy weaponry is used , at the film 's climax , and it is laughably ineffectual , or just laughable , when it is . xxmaj this includes laser beams that look like they should be coming out of the hands of an evil wizard in a cheesy eighties sword and sorcery that produced large bursts of flame which seem to have no noticeable effect on their targets even when they hit directly . xxmaj the rest of the movie is just tedious hard to watch filler . xxmaj lots of bad actors , yes even xxmaj combs and xxmaj landau suck in this , most of whom seem like they have been lifted from the set of a porno movie stand around exchanging really bad dialogue in a desperate attempt to pus forward the barely coherent plot . xxmaj there are a few badly staged fight sequences and some excruciatingly unfunny comic relief scenes with some cops and the owner of the motor cycle repair shop . xxmaj comedy of the sub xxmaj benny xxmaj hill horny old man ca n't stop staring at the female leads chest variety . xxmaj basically the ' money ' scenes involving the bike actually doing stuff are few and lame and the rest is clunky filler material . xxmaj skip it .,xxbos xxmaj it 's really just terrible . xxmaj quaid overacts more than xxmaj shatner . xxmaj the part where xxmaj elvis walks in and says \" xxmaj you can have it all \" just kills anything that might have been good in this movie that 's bad enough as it is . xxmaj drug use was completely snow coated , the only thing that had anything to do with his life was the bit about him wedding his cousin . xxmaj quaid also looks nothing like xxmaj lewis and has dark roots and eyebrows . i wish this could be re - made in the future with someone who does n't try so hard . a bigger budget would n't hurt and maybe more about his actual life . i was very , very disappointed in xxmaj quaid . xxmaj do n't watch this movie or you will be too .,xxbos xxmaj after three hours in the xxmaj cinema hall , the strongest impression garnered was that their is something amiss . xxmaj what was clear was that the xxmaj directors forgot to direct , the actors to act and most importantly the script writer to write . xxmaj xxunk shouted without reason and made one cringe . xxmaj the script moved on and on with lots of avoidable twists and turns ending in now , too familiar xxmaj priyadarshan theory of xxmaj converging actors at a single point . xxmaj this theory worked well in xxmaj hera - xxmaj pheri and xxmaj hungama but somehow managed to irritate this time , so did the habit of every actor 's incapacity to answer asked of them directly . xxmaj simplest questions such as \" what is your name would be repeated n times \" . \n",
       " \n",
       "  xxmaj finally what was amiss was that the director forgot that his audience have something called intelligence .,xxbos xxmaj the film opens with a cult leader attempting to resurrect a dead member with his followers chanting for his rebirth as the sun strikes upon them in the desert . xxunk xxmaj xxunk wholeheartedly in his power , and gets so worked up that he collapses with what appeared to be a heart attack . xxmaj unable to keep him alive , all those involved , doctors and nurses , are sentenced for attack with xxmaj reanhauer 's demonic spirit invading the curvaceous body of nurse xxmaj xxunk .. big - chested xxmaj jill xxmaj xxunk each one using her as a tool of vengeance . xxmaj forced against her will , with no memory of inflicting such harm , xxmaj sherri 's host body murders selected victims . xxmaj fortunately , xxmaj sherri 's fellow co - worker , nurse xxunk xxmaj xxunk a rather blossoming romance with a blinded patient , xxmaj marcus xxunk xxmaj xxunk ) , once a star football player , whose mother was a practitioner of voodoo . xxmaj through xxmaj marcus ' knowledge , passed down from mom , xxmaj tara finds out about possession and how to possibly save xxmaj sherri before she murders everyone unknowingly . xxmaj meanwhile , xxmaj sherri 's lover , xxmaj dr. xxmaj peter xxunk xxmaj xxunk about her present condition and welfare . \n",
       " \n",
       "  xxmaj well , this was my first xxmaj al xxmaj adamson film and i must agree with his detractors that , just from this film alone , it seems he holds them together with paper clips and xxmaj elmer 's glue . xxmaj the animation with which we see the spirit take control of xxmaj sherri is beyond awful and rather laughable . a little soft - core nonsense as filler , some demonic possession thrown in the xxunk actually speaks in another voice when she 's possessed ) , with naughty nurse xxunk .. the three nurses focused on in the film all are quite sexually active and free - xxunk a little bit violence / gore . xxmaj the film is essentially shot in tiny rooms with dull dialogue from a rather mundane cast . xxmaj the sexual situations are n't that hard - core and xxmaj al often shoots them without revealing all that much . xxmaj the film looks embarrassingly cheap and there 's an absence of thrills , although the chilling xxunk .. which sounds like something from xxmaj dark xxmaj xxunk help a little bit . xxmaj jacobson and xxmaj mary xxmaj kay xxmaj xxunk .. as nurse xxmaj beth who seems to be a nymphomaniac if she 'll even screw a nutty patient , always complaining of illnesses he really does n't have , with enough chest hair to declare him a xxmaj xxunk bad looking , and xxmaj adamson 's story - line , although frail , is somewhat xxunk .. it seems he rarely directs films which are ) . xxmaj overall , the movie looks like it cost 5 bucks and xxmaj adamson just can not overcome the budgetary xxunk .. or , in my opinion , create an unpleasant enough atmosphere due to a sometimes plodding narrative and tedious scenes which do little for the story ) . xxmaj john f xxmaj xxunk has the role of the hospital 's psychiatrist who wants to commit xxmaj sherri , not believing the idea that she was xxunk constantly bickers with xxmaj peter over her . i watched the unrated \" lost \" version which i guess is the real version to watch of xxmaj nurse xxmaj sherri .\n",
       "y: CategoryList\n",
       "neg,neg,neg,neg,neg\n",
       "Path: /tmp/.fastai/data/imdb;\n",
       "\n",
       "Test: None, model=SequentialRNN(\n",
       "  (0): MultiBatchEncoder(\n",
       "    (module): AWD_LSTM(\n",
       "      (encoder): Embedding(49856, 400, padding_idx=1)\n",
       "      (encoder_dp): EmbeddingDropout(\n",
       "        (emb): Embedding(49856, 400, padding_idx=1)\n",
       "      )\n",
       "      (rnns): ModuleList(\n",
       "        (0): WeightDropout(\n",
       "          (module): LSTM(400, 1152, batch_first=True)\n",
       "        )\n",
       "        (1): WeightDropout(\n",
       "          (module): LSTM(1152, 1152, batch_first=True)\n",
       "        )\n",
       "        (2): WeightDropout(\n",
       "          (module): LSTM(1152, 400, batch_first=True)\n",
       "        )\n",
       "      )\n",
       "      (input_dp): RNNDropout()\n",
       "      (hidden_dps): ModuleList(\n",
       "        (0): RNNDropout()\n",
       "        (1): RNNDropout()\n",
       "        (2): RNNDropout()\n",
       "      )\n",
       "    )\n",
       "  )\n",
       "  (1): PoolingLinearClassifier(\n",
       "    (layers): Sequential(\n",
       "      (0): BatchNorm1d(1200, eps=1e-05, momentum=0.1, affine=True, track_running_stats=True)\n",
       "      (1): Dropout(p=0.2)\n",
       "      (2): Linear(in_features=1200, out_features=50, bias=True)\n",
       "      (3): ReLU(inplace)\n",
       "      (4): BatchNorm1d(50, eps=1e-05, momentum=0.1, affine=True, track_running_stats=True)\n",
       "      (5): Dropout(p=0.1)\n",
       "      (6): Linear(in_features=50, out_features=2, bias=True)\n",
       "    )\n",
       "  )\n",
       "), opt_func=functools.partial(<class 'torch.optim.adam.Adam'>, betas=(0.9, 0.99)), loss_func=FlattenedLoss of CrossEntropyLoss(), metrics=[<function accuracy at 0x7fa460efc9d8>], true_wd=True, bn_wd=True, wd=0.01, train_bn=True, path=PosixPath('/tmp/.fastai/data/imdb'), model_dir='models', callback_fns=[functools.partial(<class 'fastai.basic_train.Recorder'>, add_time=True, silent=False)], callbacks=[RNNTrainer\n",
       "learn: RNNLearner(data=TextClasDataBunch;\n",
       "\n",
       "Train: LabelList (25000 items)\n",
       "x: TextList\n",
       "xxbos xxmaj chances are if i watched this again i might get physically sick , the film is so annoying xxrep 5 . unless you believe in psychics , re - incarnation and the other xxunk pocus which this promotes big - time . xxmaj the \" re - cycling of souls , \" they call it here . xxmaj puh - leeze . \n",
       " \n",
       "  xxmaj this story has been done several times before with such films as \" xxmaj heaven xxmaj can xxmaj wait . \" xxmaj it 's also been done a lot better . xxmaj too bad they had to waste the talents of xxmaj robert xxmaj downey xxmaj jr. , xxmaj cybill xxmaj shepherd , xxmaj ryan o'neal and xxmaj mary xxmaj stuart xxmaj masterson . \n",
       " \n",
       "  xxmaj at least it 's a pretty tame film , language - wise . xxmaj that 's about the only redeeming quality of this movie .,xxbos i saw this movie once a long time ago , and i have no desire to ever see it again . \n",
       " \n",
       "  xxmaj this movie is about xxmaj preston xxmaj waters , a hard - lucked preteen , who always seems to be overlooked by his family and who always seems to be short on cash . xxmaj all this changes when a bank robber runs over xxmaj preston 's bike and passes him a blank check as compensation . xxmaj preston uses the check to withdraw $ 1 million from the bank ( ironically , the money belongs to the bank robber who gave him the check ) . xxmaj preston then buys a mansion and says that he 's working as the assistant of a mysterious and wealthy xxunk named xxmaj mr. xxmaj macintosh ( named after his computer ) . xxmaj after that , he just goes crazy with the money . \n",
       " \n",
       "  xxmaj on paper , this sounds like a great idea . xxmaj however , on screen , it is one of the xxunk movies i 've ever seen . xxmaj for one thing , it 's too unbelievable . i know some parts of the movie were meant to be incredible , but i draw the line at a twelve - year - old boy going out with a thirty - year - old woman , and being put in charge of a imaginary person 's small fortune . xxmaj also , this was a shallow movie with weak acting , a predictable plot line and characters who are less than memorable . xxmaj the characters were either cheesy , over the top , annoying , or underdeveloped . xxmaj but \" xxmaj juice \" was a funny character . \n",
       " \n",
       "  xxmaj if you 're looking for a good movie to watch with your family , skip this one .,xxbos xxmaj storyline : xxmaj the film spanning xxunk hours covers in adequate details the happenings at the xxmaj kargil sector near the xxup loc in 1999 when the xxmaj pakistani xxunk had crossed the xxup loc and had entered deep into the xxmaj indian territory and the xxmaj indian xxmaj retaliation . xxmaj to know more about the story , i would suggest readers to read the news - items pertaining to xxmaj kargil . \n",
       " \n",
       "  xxmaj comment : xxmaj if one is looking for a formula story in this movie , then one can be sure that it is absent . xxup loc is a story of xxmaj pure sacrifice , patriotism , courage and lots and lots of bullets and xxmaj blood . xxmaj the movie hall where i saw this film was full of whistles and cheers when the xxmaj film shows xxmaj indian xxmaj bravery . xxmaj movie audience seemed similar to xxmaj audiences like in an xxmaj india vs xxmaj pak cricket match . \n",
       " \n",
       "  xxmaj watch the movie as a tribute to the xxmaj army 's sacrifice and for the characterization of the real - life war heroes ( 4 xxup pvc honoured heroes ) who have sacrificed their lives so that we could see this day . xxmaj the movie has made a brilliant portrayal of the xxmaj army who have battled all odds in rough weather conditions . xxmaj the film 's negatives are that it is too stretched and the songs are extremely boring .,xxbos xxmaj first , xxup ifc runs xxmaj town and xxmaj country , and now this . xxmaj the difference between that stinker and this xxmaj pink xxmaj panther rip - off is that xxmaj town and xxmaj country was watchable . xxmaj this is n't . \n",
       " \n",
       "  i can only surmise that the cast signed up for this so they could goof off in xxmaj europe on somebody else 's dime . xxmaj belushi is especially irritating . xxmaj his scene with xxmaj candy ( doing a z - grade xxmaj dom deluise ) was torture . xxmaj speaking of torture , five minutes of the talentless xxmaj shepherd , and i bet the prisoners at xxmaj gitmo would crack like walnuts ! \n",
       " \n",
       "  xxmaj the real \" xxmaj crime \" ( besides this being green - lighted ) is xxmaj shepherd 's character : a mousy wife who takes a xxmaj monte xxmaj carlo casino for a half - million bucks ! xxmaj if you buy that , i have some xxunk property in xxmaj arizona you might be interested in !,xxbos i simply ca nt understand why all these relics from the xxmaj ceausescu era refuse to let go . xxmaj one can see clearly how frustrated they were during the commie censorship that forbade them so many things to show in their movies , and now they imagine its dunno what big deal of artsy - fartsy freedom so fill the screen with people defecating , urinating , vomiting , swearing , and any other kinds of hideousness imaginable . xxup this xxup is xxup not xxup cinema , xxup friends xxup and xxup neighbors ! xxmaj this is simply visual perversion . xxmaj forget about xxmaj bunuels xxmaj chien xxmaj andalou , about xxmaj david xxmaj lynch , about xxmaj forman and neorealism and other movie makers who were able to work with an aesthetics of ugliness . xxup those people were mastering their jobs - well , you xxmaj do n't ! xxmaj do us a favor , all you xxmaj xxunk and xxmaj xxunk and xxmaj xxunk and xxmaj xxunk and xxmaj xxunk and xxmaj xxunk and other obsolete old - timers , and leave us alone ! xxmaj its bit time to see some xxmaj romanian xxup movies on screen , enough with your immature xxunk ! xxmaj you are not directors , you are xxup illiterate ! ! !\n",
       "y: CategoryList\n",
       "neg,neg,neg,neg,neg\n",
       "Path: /tmp/.fastai/data/imdb;\n",
       "\n",
       "Valid: LabelList (25000 items)\n",
       "x: TextList\n",
       "xxbos xxmaj every movie i have xxunk because xxmaj leonard xxmaj maltin praised it to the skies has blown chunks ! xxmaj every single one ! xxmaj when will i ever learn ? \n",
       " \n",
       "  xxmaj evie is a raving xxmaj old xxmaj bag who thinks nothing of saying she 's dying of breast cancer to get her way ! xxmaj laura is an insufferable xxmaj medusa filled with xxmaj the xxmaj holy xxmaj spirit ( and her hubby 's protégé ) ! xxmaj caught between these harpies is xxmaj medusa 's dumb - as - a - rock boy who has been pressed into weed - pulling servitude by xxmaj the xxmaj old xxmaj bag ! \n",
       " \n",
       "  xxmaj as i said , when will i ever learn ? \n",
       " \n",
       "  i was temporarily lifted out of my malaise when xxmaj the xxmaj old xxmaj bag stuck her head in a sink , but , unfortunately , she did not die . i was temporarily lifted out of my malaise again when xxmaj medusa got mowed down , but , unfortunately , she did not die . xxmaj it should be a capital offense to torture audiences like this ! \n",
       " \n",
       "  xxmaj without xxmaj harry xxmaj potter to kick him around , xxmaj rupert xxmaj grint is just a pair of big blue eyes that practically bulge out of its sockets . xxmaj julie xxmaj walters 's scenery - chewing ( especially the scene when she \" plays \" xxmaj god ) is even more shameless than her character . \n",
       " \n",
       "  xxmaj at least this xxmaj harold bangs some bimbo instead of xxmaj maude . xxmaj for that , i am truly grateful . xxmaj and if you 're reading this xxmaj mr. xxmaj maltin , you owe me $ 3.99 !,xxbos xxmaj cyclone is a piece of dreck with little redeeming value , even on the so bad its entertaining front . a friend of mine took the tape from an overflowing xxmaj st. xxmaj vincent xxunk clothes bin . xxmaj okay , that may be a little bit dodgy but it was meant to be a clothes bin , not a crappy old xxup vhs bin , something the less fortunate members of our society do n't really need to make their lives better . xxmaj it could be considered a mercy . xxmaj watching a movie like xxmaj cyclone would really only add to their problems . xxmaj anyway the basic premise of a woman with a super - powerful motorcycle that it armed to the teeth with rockets and lasers is n't even properly exploited . xxmaj the two ' high speed ' chase sequences involve vehicles travelling at less than hair raising speeds of around 40 xxup xxunk and a super - fast motorcycle that is in danger of being overtaken by a crappy old station wagon is not that awe inspiring when you get down to it . xxmaj there is only one scene where the bikes goofy weaponry is used , at the film 's climax , and it is laughably ineffectual , or just laughable , when it is . xxmaj this includes laser beams that look like they should be coming out of the hands of an evil wizard in a cheesy eighties sword and sorcery that produced large bursts of flame which seem to have no noticeable effect on their targets even when they hit directly . xxmaj the rest of the movie is just tedious hard to watch filler . xxmaj lots of bad actors , yes even xxmaj combs and xxmaj landau suck in this , most of whom seem like they have been lifted from the set of a porno movie stand around exchanging really bad dialogue in a desperate attempt to pus forward the barely coherent plot . xxmaj there are a few badly staged fight sequences and some excruciatingly unfunny comic relief scenes with some cops and the owner of the motor cycle repair shop . xxmaj comedy of the sub xxmaj benny xxmaj hill horny old man ca n't stop staring at the female leads chest variety . xxmaj basically the ' money ' scenes involving the bike actually doing stuff are few and lame and the rest is clunky filler material . xxmaj skip it .,xxbos xxmaj it 's really just terrible . xxmaj quaid overacts more than xxmaj shatner . xxmaj the part where xxmaj elvis walks in and says \" xxmaj you can have it all \" just kills anything that might have been good in this movie that 's bad enough as it is . xxmaj drug use was completely snow coated , the only thing that had anything to do with his life was the bit about him wedding his cousin . xxmaj quaid also looks nothing like xxmaj lewis and has dark roots and eyebrows . i wish this could be re - made in the future with someone who does n't try so hard . a bigger budget would n't hurt and maybe more about his actual life . i was very , very disappointed in xxmaj quaid . xxmaj do n't watch this movie or you will be too .,xxbos xxmaj after three hours in the xxmaj cinema hall , the strongest impression garnered was that their is something amiss . xxmaj what was clear was that the xxmaj directors forgot to direct , the actors to act and most importantly the script writer to write . xxmaj xxunk shouted without reason and made one cringe . xxmaj the script moved on and on with lots of avoidable twists and turns ending in now , too familiar xxmaj priyadarshan theory of xxmaj converging actors at a single point . xxmaj this theory worked well in xxmaj hera - xxmaj pheri and xxmaj hungama but somehow managed to irritate this time , so did the habit of every actor 's incapacity to answer asked of them directly . xxmaj simplest questions such as \" what is your name would be repeated n times \" . \n",
       " \n",
       "  xxmaj finally what was amiss was that the director forgot that his audience have something called intelligence .,xxbos xxmaj the film opens with a cult leader attempting to resurrect a dead member with his followers chanting for his rebirth as the sun strikes upon them in the desert . xxunk xxmaj xxunk wholeheartedly in his power , and gets so worked up that he collapses with what appeared to be a heart attack . xxmaj unable to keep him alive , all those involved , doctors and nurses , are sentenced for attack with xxmaj reanhauer 's demonic spirit invading the curvaceous body of nurse xxmaj xxunk .. big - chested xxmaj jill xxmaj xxunk each one using her as a tool of vengeance . xxmaj forced against her will , with no memory of inflicting such harm , xxmaj sherri 's host body murders selected victims . xxmaj fortunately , xxmaj sherri 's fellow co - worker , nurse xxunk xxmaj xxunk a rather blossoming romance with a blinded patient , xxmaj marcus xxunk xxmaj xxunk ) , once a star football player , whose mother was a practitioner of voodoo . xxmaj through xxmaj marcus ' knowledge , passed down from mom , xxmaj tara finds out about possession and how to possibly save xxmaj sherri before she murders everyone unknowingly . xxmaj meanwhile , xxmaj sherri 's lover , xxmaj dr. xxmaj peter xxunk xxmaj xxunk about her present condition and welfare . \n",
       " \n",
       "  xxmaj well , this was my first xxmaj al xxmaj adamson film and i must agree with his detractors that , just from this film alone , it seems he holds them together with paper clips and xxmaj elmer 's glue . xxmaj the animation with which we see the spirit take control of xxmaj sherri is beyond awful and rather laughable . a little soft - core nonsense as filler , some demonic possession thrown in the xxunk actually speaks in another voice when she 's possessed ) , with naughty nurse xxunk .. the three nurses focused on in the film all are quite sexually active and free - xxunk a little bit violence / gore . xxmaj the film is essentially shot in tiny rooms with dull dialogue from a rather mundane cast . xxmaj the sexual situations are n't that hard - core and xxmaj al often shoots them without revealing all that much . xxmaj the film looks embarrassingly cheap and there 's an absence of thrills , although the chilling xxunk .. which sounds like something from xxmaj dark xxmaj xxunk help a little bit . xxmaj jacobson and xxmaj mary xxmaj kay xxmaj xxunk .. as nurse xxmaj beth who seems to be a nymphomaniac if she 'll even screw a nutty patient , always complaining of illnesses he really does n't have , with enough chest hair to declare him a xxmaj xxunk bad looking , and xxmaj adamson 's story - line , although frail , is somewhat xxunk .. it seems he rarely directs films which are ) . xxmaj overall , the movie looks like it cost 5 bucks and xxmaj adamson just can not overcome the budgetary xxunk .. or , in my opinion , create an unpleasant enough atmosphere due to a sometimes plodding narrative and tedious scenes which do little for the story ) . xxmaj john f xxmaj xxunk has the role of the hospital 's psychiatrist who wants to commit xxmaj sherri , not believing the idea that she was xxunk constantly bickers with xxmaj peter over her . i watched the unrated \" lost \" version which i guess is the real version to watch of xxmaj nurse xxmaj sherri .\n",
       "y: CategoryList\n",
       "neg,neg,neg,neg,neg\n",
       "Path: /tmp/.fastai/data/imdb;\n",
       "\n",
       "Test: None, model=SequentialRNN(\n",
       "  (0): MultiBatchEncoder(\n",
       "    (module): AWD_LSTM(\n",
       "      (encoder): Embedding(49856, 400, padding_idx=1)\n",
       "      (encoder_dp): EmbeddingDropout(\n",
       "        (emb): Embedding(49856, 400, padding_idx=1)\n",
       "      )\n",
       "      (rnns): ModuleList(\n",
       "        (0): WeightDropout(\n",
       "          (module): LSTM(400, 1152, batch_first=True)\n",
       "        )\n",
       "        (1): WeightDropout(\n",
       "          (module): LSTM(1152, 1152, batch_first=True)\n",
       "        )\n",
       "        (2): WeightDropout(\n",
       "          (module): LSTM(1152, 400, batch_first=True)\n",
       "        )\n",
       "      )\n",
       "      (input_dp): RNNDropout()\n",
       "      (hidden_dps): ModuleList(\n",
       "        (0): RNNDropout()\n",
       "        (1): RNNDropout()\n",
       "        (2): RNNDropout()\n",
       "      )\n",
       "    )\n",
       "  )\n",
       "  (1): PoolingLinearClassifier(\n",
       "    (layers): Sequential(\n",
       "      (0): BatchNorm1d(1200, eps=1e-05, momentum=0.1, affine=True, track_running_stats=True)\n",
       "      (1): Dropout(p=0.2)\n",
       "      (2): Linear(in_features=1200, out_features=50, bias=True)\n",
       "      (3): ReLU(inplace)\n",
       "      (4): BatchNorm1d(50, eps=1e-05, momentum=0.1, affine=True, track_running_stats=True)\n",
       "      (5): Dropout(p=0.1)\n",
       "      (6): Linear(in_features=50, out_features=2, bias=True)\n",
       "    )\n",
       "  )\n",
       "), opt_func=functools.partial(<class 'torch.optim.adam.Adam'>, betas=(0.9, 0.99)), loss_func=FlattenedLoss of CrossEntropyLoss(), metrics=[<function accuracy at 0x7fa460efc9d8>], true_wd=True, bn_wd=True, wd=0.01, train_bn=True, path=PosixPath('/tmp/.fastai/data/imdb'), model_dir='models', callback_fns=[functools.partial(<class 'fastai.basic_train.Recorder'>, add_time=True, silent=False)], callbacks=[...], layer_groups=[Sequential(\n",
       "  (0): Embedding(49856, 400, padding_idx=1)\n",
       "  (1): EmbeddingDropout(\n",
       "    (emb): Embedding(49856, 400, padding_idx=1)\n",
       "  )\n",
       "), Sequential(\n",
       "  (0): WeightDropout(\n",
       "    (module): LSTM(400, 1152, batch_first=True)\n",
       "  )\n",
       "  (1): RNNDropout()\n",
       "), Sequential(\n",
       "  (0): WeightDropout(\n",
       "    (module): LSTM(1152, 1152, batch_first=True)\n",
       "  )\n",
       "  (1): RNNDropout()\n",
       "), Sequential(\n",
       "  (0): WeightDropout(\n",
       "    (module): LSTM(1152, 400, batch_first=True)\n",
       "  )\n",
       "  (1): RNNDropout()\n",
       "), Sequential(\n",
       "  (0): PoolingLinearClassifier(\n",
       "    (layers): Sequential(\n",
       "      (0): BatchNorm1d(1200, eps=1e-05, momentum=0.1, affine=True, track_running_stats=True)\n",
       "      (1): Dropout(p=0.2)\n",
       "      (2): Linear(in_features=1200, out_features=50, bias=True)\n",
       "      (3): ReLU(inplace)\n",
       "      (4): BatchNorm1d(50, eps=1e-05, momentum=0.1, affine=True, track_running_stats=True)\n",
       "      (5): Dropout(p=0.1)\n",
       "      (6): Linear(in_features=50, out_features=2, bias=True)\n",
       "    )\n",
       "  )\n",
       ")], add_time=True, silent=None)\n",
       "alpha: 2.0\n",
       "beta: 1.0], layer_groups=[Sequential(\n",
       "  (0): Embedding(49856, 400, padding_idx=1)\n",
       "  (1): EmbeddingDropout(\n",
       "    (emb): Embedding(49856, 400, padding_idx=1)\n",
       "  )\n",
       "), Sequential(\n",
       "  (0): WeightDropout(\n",
       "    (module): LSTM(400, 1152, batch_first=True)\n",
       "  )\n",
       "  (1): RNNDropout()\n",
       "), Sequential(\n",
       "  (0): WeightDropout(\n",
       "    (module): LSTM(1152, 1152, batch_first=True)\n",
       "  )\n",
       "  (1): RNNDropout()\n",
       "), Sequential(\n",
       "  (0): WeightDropout(\n",
       "    (module): LSTM(1152, 400, batch_first=True)\n",
       "  )\n",
       "  (1): RNNDropout()\n",
       "), Sequential(\n",
       "  (0): PoolingLinearClassifier(\n",
       "    (layers): Sequential(\n",
       "      (0): BatchNorm1d(1200, eps=1e-05, momentum=0.1, affine=True, track_running_stats=True)\n",
       "      (1): Dropout(p=0.2)\n",
       "      (2): Linear(in_features=1200, out_features=50, bias=True)\n",
       "      (3): ReLU(inplace)\n",
       "      (4): BatchNorm1d(50, eps=1e-05, momentum=0.1, affine=True, track_running_stats=True)\n",
       "      (5): Dropout(p=0.1)\n",
       "      (6): Linear(in_features=50, out_features=2, bias=True)\n",
       "    )\n",
       "  )\n",
       ")], add_time=True, silent=None)"
      ]
     },
     "execution_count": 36,
     "metadata": {},
     "output_type": "execute_result"
    }
   ],
   "source": [
    "learn.load('third')"
   ]
  },
  {
   "cell_type": "code",
   "execution_count": 37,
   "metadata": {},
   "outputs": [
    {
     "data": {
      "text/html": [
       "<table border=\"1\" class=\"dataframe\">\n",
       "  <thead>\n",
       "    <tr style=\"text-align: left;\">\n",
       "      <th>epoch</th>\n",
       "      <th>train_loss</th>\n",
       "      <th>valid_loss</th>\n",
       "      <th>accuracy</th>\n",
       "      <th>time</th>\n",
       "    </tr>\n",
       "  </thead>\n",
       "  <tbody>\n",
       "    <tr>\n",
       "      <td>0</td>\n",
       "      <td>0.478593</td>\n",
       "      <td>0.433975</td>\n",
       "      <td>0.807600</td>\n",
       "      <td>04:42</td>\n",
       "    </tr>\n",
       "    <tr>\n",
       "      <td>1</td>\n",
       "      <td>0.398611</td>\n",
       "      <td>0.391655</td>\n",
       "      <td>0.831480</td>\n",
       "      <td>04:41</td>\n",
       "    </tr>\n",
       "  </tbody>\n",
       "</table>"
      ],
      "text/plain": [
       "<IPython.core.display.HTML object>"
      ]
     },
     "metadata": {},
     "output_type": "display_data"
    }
   ],
   "source": [
    "learn.unfreeze()\n",
    "learn.fit_one_cycle(2, slice(1e-3/(2.6**4),1e-3), moms=(0.8,0.7))"
   ]
  },
  {
   "cell_type": "code",
   "execution_count": 38,
   "metadata": {},
   "outputs": [
    {
     "data": {
      "text/plain": [
       "(Category neg, tensor(0), tensor([0.5254, 0.4746]))"
      ]
     },
     "execution_count": 38,
     "metadata": {},
     "output_type": "execute_result"
    }
   ],
   "source": [
    "learn.predict(\"I can't wait for Nic Cage to explain THIS one to God on Judgment Day.\")"
   ]
  },
  {
   "cell_type": "code",
   "execution_count": null,
   "metadata": {},
   "outputs": [],
   "source": []
  }
 ],
 "metadata": {
  "kernelspec": {
   "display_name": "Python 3",
   "language": "python",
   "name": "python3"
  },
  "language_info": {
   "codemirror_mode": {
    "name": "ipython",
    "version": 3
   },
   "file_extension": ".py",
   "mimetype": "text/x-python",
   "name": "python",
   "nbconvert_exporter": "python",
   "pygments_lexer": "ipython3",
   "version": "3.6.6"
  }
 },
 "nbformat": 4,
 "nbformat_minor": 1
}
