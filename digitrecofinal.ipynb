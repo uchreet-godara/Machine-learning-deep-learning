{
 "cells": [
  {
   "cell_type": "code",
   "execution_count": 1,
   "metadata": {
    "_cell_guid": "b1076dfc-b9ad-4769-8c92-a6c4dae69d19",
    "_uuid": "8f2839f25d086af736a60e9eeb907d3b93b6e0e5"
   },
   "outputs": [
    {
     "name": "stderr",
     "output_type": "stream",
     "text": [
      "Using TensorFlow backend.\n"
     ]
    }
   ],
   "source": [
    "import numpy as np\n",
    "import pandas as pd\n",
    "import matplotlib.pyplot as plt\n",
    "import seaborn as sns\n",
    "\n",
    "\n",
    "from keras.models import Sequential\n",
    "from keras.layers import Activation,Dense,Flatten,Lambda,Dropout\n",
    "from keras.optimizers import Adam,RMSprop\n",
    "from sklearn.model_selection import train_test_split\n",
    "from keras import backend as k\n",
    "from keras.preprocessing.image import ImageDataGenerator\n"
   ]
  },
  {
   "cell_type": "code",
   "execution_count": 2,
   "metadata": {
    "_uuid": "a4bfec08f4fb58835c30c630acacff0060ddd335"
   },
   "outputs": [],
   "source": [
    "from keras.layers import BatchNormalization , MaxPooling2D , Convolution2D"
   ]
  },
  {
   "cell_type": "code",
   "execution_count": 3,
   "metadata": {
    "_cell_guid": "79c7e3d0-c299-4dcb-8224-4455121ee9b0",
    "_uuid": "d629ff2d2480ee46fbb7e2d37f6b5fab8052498a"
   },
   "outputs": [],
   "source": [
    "trainX = pd.read_csv('../input/train.csv')\n",
    "testX = pd.read_csv('../input/test.csv')"
   ]
  },
  {
   "cell_type": "code",
   "execution_count": 4,
   "metadata": {
    "_uuid": "579537fc5aa41580169cbe9dc013b91bdb93f4f8"
   },
   "outputs": [],
   "source": [
    "trainX1 = np.array(trainX).astype('float32')\n",
    "testX1 = np.array(testX).astype('float32')\n"
   ]
  },
  {
   "cell_type": "code",
   "execution_count": 5,
   "metadata": {
    "_uuid": "2f7791e65e252f913bf414b04114e4d54ee2eabf"
   },
   "outputs": [],
   "source": [
    "X = trainX1[:,1:].astype('float32')\n",
    "Y = trainX1[:,0].astype('float32')"
   ]
  },
  {
   "cell_type": "code",
   "execution_count": 6,
   "metadata": {
    "_uuid": "a506871bddafb86f77e550150bbdbd3e9b34e7dc"
   },
   "outputs": [],
   "source": [
    "X.shape\n",
    "X = X.reshape(X.shape[0],28,28)"
   ]
  },
  {
   "cell_type": "code",
   "execution_count": 7,
   "metadata": {
    "_uuid": "22d9d99e9bd0ee2723bc9b782c9ccd4463306693",
    "scrolled": true
   },
   "outputs": [],
   "source": [
    "\n",
    "testX1 = testX1.reshape(testX1.shape[0],28,28)"
   ]
  },
  {
   "cell_type": "code",
   "execution_count": 8,
   "metadata": {
    "_uuid": "5b0132d29e6fa9d15fce60117de79ef77c536d2c"
   },
   "outputs": [
    {
     "data": {
      "image/png": "[encoded data removed]",
      "text/plain": [
       "<Figure size 432x288 with 3 Axes>"
      ]
     },
     "metadata": {},
     "output_type": "display_data"
    }
   ],
   "source": [
    "for i in range(0,3):\n",
    "    plt.subplot(221+i)\n",
    "    plt.imshow(X[i,:])"
   ]
  },
  {
   "cell_type": "code",
   "execution_count": 9,
   "metadata": {
    "_uuid": "84f95e0dc0be0ae313a3d177cbf7d6182e5be95f"
   },
   "outputs": [],
   "source": [
    "X = X.reshape(X.shape[0],28,28,1)\n",
    "testX1 = testX1.reshape(testX1.shape[0],28,28,1)"
   ]
  },
  {
   "cell_type": "code",
   "execution_count": 10,
   "metadata": {
    "_uuid": "09130b0f38b4c09e6416d668f9701943934f1f92"
   },
   "outputs": [],
   "source": [
    "meanX = X.mean().astype(np.float)\n",
    "stdX = X.std().astype(np.float)"
   ]
  },
  {
   "cell_type": "code",
   "execution_count": 11,
   "metadata": {
    "_uuid": "7a78d9f7af5d4c1c7c2d8700163936e08e5f0069"
   },
   "outputs": [],
   "source": [
    "def standardize(x):\n",
    "    return (x-meanX)/stdX\n",
    "    "
   ]
  },
  {
   "cell_type": "code",
   "execution_count": 12,
   "metadata": {
    "_uuid": "45003cfa727bc9f47eec5c3c5a4235f6ec182046",
    "scrolled": true
   },
   "outputs": [],
   "source": [
    "Y = pd.get_dummies(Y)"
   ]
  },
  {
   "cell_type": "code",
   "execution_count": 13,
   "metadata": {
    "_uuid": "02b18d6b7abf0b2be7a1d0f7f850e8df42f9cf6c"
   },
   "outputs": [],
   "source": [
    "def get_bn_model():\n",
    "    model = Sequential([\n",
    "        Lambda(standardize, input_shape=(28,28,1)),\n",
    "        Convolution2D(32,(3,3), activation='relu'),\n",
    "        BatchNormalization(axis=1),\n",
    "        Convolution2D(32,(3,3), activation='relu'),\n",
    "        MaxPooling2D(),\n",
    "        BatchNormalization(axis=1),\n",
    "        Convolution2D(64,(3,3), activation='relu'),\n",
    "        BatchNormalization(axis=1),\n",
    "        Convolution2D(64,(3,3), activation='relu'),\n",
    "        MaxPooling2D(),\n",
    "        Flatten(),\n",
    "        BatchNormalization(),\n",
    "        Dense(512, activation='relu'),\n",
    "        BatchNormalization(),\n",
    "        Dense(10, activation='softmax')\n",
    "        ])\n",
    "    model.compile(Adam(), loss='categorical_crossentropy', metrics=['accuracy'])\n",
    "    return model"
   ]
  },
  {
   "cell_type": "code",
   "execution_count": 14,
   "metadata": {
    "_uuid": "ad193e372190d6a06282c7b411044078234cc205"
   },
   "outputs": [],
   "source": [
    "gen = ImageDataGenerator(rotation_range=8, width_shift_range=0.1, shear_range=0.3,\n",
    "                               height_shift_range=0.1, zoom_range=0.1)"
   ]
  },
  {
   "cell_type": "code",
   "execution_count": 15,
   "metadata": {
    "_uuid": "ab85cb2c053b89207b7f51a85e727fbe44759c60"
   },
   "outputs": [],
   "source": [
    "batches = gen.flow(X, Y, batch_size=64)\n"
   ]
  },
  {
   "cell_type": "code",
   "execution_count": 16,
   "metadata": {
    "_uuid": "1bb6068d2f1a8dafb537b672ac1762ef263e4239"
   },
   "outputs": [],
   "source": [
    "model= get_bn_model()\n",
    "model.optimizer.lr=0.01"
   ]
  },
  {
   "cell_type": "code",
   "execution_count": 17,
   "metadata": {
    "_uuid": "39f1ee6354a55af2c27a6aded64d860a3e4fc358"
   },
   "outputs": [
    {
     "name": "stdout",
     "output_type": "stream",
     "text": [
      "Epoch 1/1\n",
      "12786/42000 [========>.....................] - ETA: 15:55 - loss: 0.0602 - acc: 0.9824"
     ]
    }
   ],
   "source": [
    "history=model.fit_generator(generator=batches, steps_per_epoch=batches.n, epochs=1)"
   ]
  },
  {
   "cell_type": "code",
   "execution_count": 18,
   "metadata": {
    "_uuid": "6f14ede766397c0864cf101a9ca261448e36be07"
   },
   "outputs": [],
   "source": [
    "predictions = model.predict_classes(testX1, verbose=0)\n"
   ]
  },
  {
   "cell_type": "code",
   "execution_count": 19,
   "metadata": {
    "_uuid": "2f7cfc0b101544eec2c372702b21eea954855729"
   },
   "outputs": [],
   "source": [
    "submissions=pd.DataFrame({\"ImageId\": list(range(1,len(predictions)+1)),\n",
    "                         \"Label\": predictions})"
   ]
  },
  {
   "cell_type": "code",
   "execution_count": 20,
   "metadata": {
    "_uuid": "5a102108fe749677118572d8277270a239596299"
   },
   "outputs": [],
   "source": [
    "submissions.to_csv(\"s2.csv\", index=False, header=True)"
   ]
  },
  {
   "cell_type": "code",
   "execution_count": 21,
   "metadata": {
    "_uuid": "af1f957b3670bfd84ae934b9629f75599f03abdc"
   },
   "outputs": [],
   "source": []
  },
  {
   "cell_type": "code",
   "execution_count": 21,
   "metadata": {
    "_uuid": "9507b7d33a9b0b7f718a6dcb4f525e230c5ca83f"
   },
   "outputs": [],
   "source": []
  }
 ],
 "metadata": {
  "kernelspec": {
   "display_name": "Python 3",
   "language": "python",
   "name": "python3"
  },
  "language_info": {
   "codemirror_mode": {
    "name": "ipython",
    "version": 3
   },
   "file_extension": ".py",
   "mimetype": "text/x-python",
   "name": "python",
   "nbconvert_exporter": "python",
   "pygments_lexer": "ipython3",
   "version": "3.6.6"
  }
 },
 "nbformat": 4,
 "nbformat_minor": 1
}
